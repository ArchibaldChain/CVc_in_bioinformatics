{
 "cells": [
  {
   "cell_type": "code",
   "execution_count": 6,
   "metadata": {},
   "outputs": [
    {
     "name": "stdout",
     "output_type": "stream",
     "text": [
      "e:\\OneDrive\\Programming\\Python\\CVc_in_bio_informatics\\src\\frequentist_simulation\n",
      "e:\\OneDrive\\Programming\\Python\\CVc_in_bio_informatics\\src\\frequentist_simulation\n"
     ]
    }
   ],
   "source": [
    "import pandas as pd\n",
    "import numpy as np\n",
    "from sklearn.model_selection import train_test_split\n",
    "import os, sys\n",
    "print(os.getcwd())\n",
    "sys.path.append('..')\n",
    "from utils import *\n",
    "from FAST_LMM.FaST_LMM import FASTLMM\n",
    "from bslmm_simulation import gemma_operator as gemma\n",
    "from arguments import get_args\n",
    "from frequentist_simulation.H_functions import *"
   ]
  },
  {
   "cell_type": "code",
   "execution_count": 7,
   "metadata": {},
   "outputs": [],
   "source": [
    "SNP_file =  '../../data/SNP_in_200GENE_chr1.csv'\n",
    "from frequentist_simulation.simulation import load\n",
    "SNPs = load(SNP_file)"
   ]
  },
  {
   "cell_type": "code",
   "execution_count": 43,
   "metadata": {},
   "outputs": [],
   "source": [
    "from frequentist_simulation.simulation import phenotype_simulator\n",
    "y  = phenotype_simulator(SNPs)"
   ]
  },
  {
   "cell_type": "code",
   "execution_count": 44,
   "metadata": {},
   "outputs": [],
   "source": [
    "n = SNPs.shape[0]\n",
    "data = np.concatenate([np.ones([n, 1]), SNPs], axis=1)\n",
    "G_tr, G_te, y_tr, y_te = train_test_split(data, y, test_size=0.2)\n",
    "d = num_fixed_snps = 200\n",
    "X_tr, X_te = G_tr[:, :d + 1], G_te[:, :d + 1]\n",
    "W_tr, W_te = G_tr[:, 1:], G_te[:, 1:]\n",
    "n_tr, sc = W_tr.shape"
   ]
  },
  {
   "cell_type": "code",
   "execution_count": 45,
   "metadata": {},
   "outputs": [
    {
     "name": "stdout",
     "output_type": "stream",
     "text": [
      "------------- FAST-LMM------------------\n",
      "LowRank is set as True, not using REML\n",
      "Rank of W is 2038, shape of W is (2038, 10000).\n",
      "--- 26.606565475463867 seconds for SVD calculation ---\n",
      "Optimization Results:\n",
      "Delta is calculated as:  6.555589555209418\n",
      "Maximum Likelihood is calculated as:  -2455.709784891998\n",
      "---------------Summary------------------\n",
      "LowRank is set as True, not using REML\n",
      "Heritability h2: 0.13235234559697875\n",
      "Sigma_g2: 0.09551526161684576\n",
      "Sigma_e2: 0.6261588514184891\n",
      "------ 45.332000494003296 seconds ------\n",
      "(0.09551526161684576, 0.6261588514184891)\n"
     ]
    }
   ],
   "source": [
    "## using FaST-LMM\n",
    "fast = FASTLMM(lowRank=True, REML=False)\n",
    "fast.fit(X_tr, y_tr, 1 / np.sqrt(sc) * W_tr)\n",
    "sigmas = (fast.sigma_g2, fast.sigma_e2)\n",
    "print(sigmas)"
   ]
  },
  {
   "cell_type": "code",
   "execution_count": 46,
   "metadata": {},
   "outputs": [],
   "source": [
    "K_relatedness = 1 / sc * W_tr @ W_tr.T\n",
    "#sigmas = gemma.gemma_var_estimator(y_tr, K_relatedness, 'var_component')\n",
    "#print(sigmas)\n",
    "V = sigmas[0] * K_relatedness + sigmas[1] * np.identity(n_tr)\n",
    "V_inv = inv(V)\n"
   ]
  },
  {
   "cell_type": "code",
   "execution_count": 52,
   "metadata": {},
   "outputs": [
    {
     "name": "stdout",
     "output_type": "stream",
     "text": [
      "First 5 fold indices : [(0, 204), (204, 408), (408, 612), (612, 816), (816, 1020)]\n"
     ]
    }
   ],
   "source": [
    "\n",
    "n_folds = 10\n",
    "## calculating H for 10-folds CV\n",
    "### OLS\n",
    "H_cv_ols_k = getHcv_for_Kfolds(X_tr, y_tr, H_function_ols, nfolds=n_folds)"
   ]
  },
  {
   "cell_type": "code",
   "execution_count": 47,
   "metadata": {},
   "outputs": [
    {
     "name": "stdout",
     "output_type": "stream",
     "text": [
      "First 5 fold indices : [(0, 204), (204, 408), (408, 612), (612, 816), (816, 1020)]\n",
      "First 5 fold indices : [(0, 204), (204, 408), (408, 612), (612, 816), (816, 1020)]\n",
      "First 5 fold indices : [(0, 204), (204, 408), (408, 612), (612, 816), (816, 1020)]\n",
      "First 5 fold indices : [(0, 204), (204, 408), (408, 612), (612, 816), (816, 1020)]\n"
     ]
    }
   ],
   "source": [
    "### WLS\n",
    "H_cv_wls_k = getHcv_for_Kfolds(X_tr,\n",
    "                                y_tr,\n",
    "                                H_function_wls,\n",
    "                                nfolds=n_folds,\n",
    "                                V=V)\n",
    "\n",
    "### LMM\n",
    "H_cv_lmm_k = H_function_lmm(X_tr, H_cv_wls_k, V=V)\n",
    "\n",
    "#### Ridge\n",
    "lamb = 100\n",
    "H_cv_ridge_k = getHcv_for_Kfolds(X_tr,\n",
    "                                    y_tr,\n",
    "                                    H_function_ridge,\n",
    "                                    nfolds=n_folds,\n",
    "                                    lamb=lamb)"
   ]
  },
  {
   "cell_type": "code",
   "execution_count": 48,
   "metadata": {},
   "outputs": [],
   "source": [
    "## get random generated and sampled from X and W\n",
    "n_tr = X_tr.shape[0]\n",
    "n_te = X_te.shape[0]\n",
    "W_te_random = np.random.choice([0, 1, 2], [n_te, sc])\n",
    "X_te_random = np.concatenate([np.ones([n_te, 1]), W_te_random[:, :d]],\n",
    "                                axis=1)\n",
    "samples = np.random.choice(np.arange(n_tr), n_te)\n",
    "W_te_sample = W_tr[samples, :]\n",
    "X_te_sample = X_tr[samples, :]"
   ]
  },
  {
   "cell_type": "code",
   "execution_count": 50,
   "metadata": {},
   "outputs": [],
   "source": [
    "## calculating CV CVc and test error\n",
    "# Using Test Error to estimate the Generalization error\n",
    "Error_cv_lmm = 1 / n_tr * (np.sum(np.square(y_tr - H_cv_lmm_k @ y_tr)))\n",
    "Error_cv_wls = 1 / n_tr * (np.sum(np.square(y_tr - H_cv_wls_k @ y_tr)))\n",
    "Error_cv_ols = 1 / n_tr * (np.sum(np.square(y_tr - H_cv_ols_k @ y_tr)))\n",
    "Error_cv_ridge = 1 / n_tr * (np.sum(np.square(y_tr - H_cv_ridge_k @ y_tr)))"
   ]
  },
  {
   "cell_type": "code",
   "execution_count": 51,
   "metadata": {},
   "outputs": [
    {
     "data": {
      "text/plain": [
       "3.986125047283216e+62"
      ]
     },
     "execution_count": 51,
     "metadata": {},
     "output_type": "execute_result"
    }
   ],
   "source": [
    "Error_cv_wls"
   ]
  },
  {
   "cell_type": "code",
   "execution_count": 53,
   "metadata": {},
   "outputs": [],
   "source": [
    "# using estimated sigma_g2 to get the Covariance(y_tr, y_te)\n",
    "V_tr_te = 1 / sc * sigmas[0] * W_tr @ W_te.T\n",
    "\n",
    "H_te_wls = X_te @ inv(X_tr.T @ V_inv @ X_tr) @ X_tr.T @ V_inv\n",
    "H_te_lmm = H_te_wls + V_tr_te.T @ V_inv @ (\n",
    "    np.identity(n_tr) - X_tr @ inv(X_tr.T @ V_inv @ X_tr) @ X_tr.T @ V_inv)\n",
    "H_te_ols = X_te @ inv(X_tr.T @ X_tr) @ X_tr.T\n",
    "H_te_ridge = X_te @ inv(X_tr.T @ X_tr +\n",
    "                        lamb * np.identity(X_tr.shape[1])) @ X_tr.T\n",
    "\n",
    "Error_te_lmm = 1 / n_te * (np.sum(np.square(y_te - H_te_lmm @ y_tr)))\n",
    "Error_te_wls = 1 / n_te * (np.sum(np.square(y_te - H_te_wls @ y_tr)))\n",
    "Error_te_ols = 1 / n_te * (np.sum(np.square(y_te - H_te_ols @ y_tr)))\n",
    "Error_te_ridge = 1 / n_te * (np.sum(np.square(y_te - H_te_ridge @ y_tr)))\n",
    "\n",
    "Correction_lmm = 2 * (1 / n_tr * np.trace(H_cv_lmm_k @ V) -\n",
    "                        1 / n_te * np.trace(H_te_lmm @ V_tr_te))\n",
    "Correction_wls = 2 * (1 / n_tr * np.trace(H_cv_wls_k @ V) -\n",
    "                        1 / n_te * np.trace(H_te_wls @ V_tr_te))\n",
    "Correction_ols = 2 * (1 / n_tr * np.trace(H_cv_ols_k @ V) -\n",
    "                        1 / n_te * np.trace(H_te_ols @ V_tr_te))\n",
    "Correction_ridge = 2 * (1 / n_tr * np.trace(H_cv_ols_k @ V) -\n",
    "                        1 / n_te * np.trace(H_te_ols @ V_tr_te))\n",
    "\n",
    "Error_cv_lmm_c = Error_cv_lmm + Correction_lmm\n",
    "Error_cv_wls_c = Error_cv_wls + Correction_wls\n",
    "Error_cv_ols_c = Error_cv_ols + Correction_ols\n",
    "Error_cv_ridge_c = Error_cv_ridge + Correction_ridge"
   ]
  },
  {
   "cell_type": "code",
   "execution_count": 30,
   "metadata": {},
   "outputs": [],
   "source": [
    "    # using  generated Test set to correct\n",
    "    V_tr_te_random = 1 / sc * sigmas[0] * W_tr @ W_te_random.T\n",
    "\n",
    "    H_te_wls_r = X_te_random @ inv(X_tr.T @ V_inv @ X_tr) @ X_tr.T @ V_inv\n",
    "    H_te_lmm_r = H_te_wls_r + V_tr_te_random.T @ V_inv @ (\n",
    "        np.identity(n_tr) - X_tr @ inv(X_tr.T @ V_inv @ X_tr) @ X_tr.T @ V_inv)\n",
    "    H_te_ols_r = X_te_random @ inv(X_tr.T @ X_tr) @ X_tr.T\n",
    "    H_te_ridge_r = X_te_random @ inv(X_tr.T @ X_tr + lamb *\n",
    "                                     np.identity(X_tr.shape[1])) @ X_tr.T\n",
    "\n",
    "    Correction_lmm_r = 2 * (1 / n_tr * np.trace(H_cv_lmm_k @ V) -\n",
    "                            1 / n_te * np.trace(H_te_lmm_r @ V_tr_te_random))\n",
    "    Correction_wls_r = 2 * (1 / n_tr * np.trace(H_cv_wls_k @ V) -\n",
    "                            1 / n_te * np.trace(H_te_wls_r @ V_tr_te_random))\n",
    "    Correction_ols_r = 2 * (1 / n_tr * np.trace(H_cv_ols_k @ V) -\n",
    "                            1 / n_te * np.trace(H_te_ols_r @ V_tr_te_random))\n",
    "    Correction_ridge_r = 2 * (1 / n_tr * np.trace(H_cv_ols_k @ V) - 1 / n_te *\n",
    "                              np.trace(H_te_ridge_r @ V_tr_te_random))\n",
    "\n",
    "    Error_cv_lmm_c_r = Error_cv_lmm + Correction_lmm_r\n",
    "    Error_cv_wls_c_r = Error_cv_wls + Correction_wls_r\n",
    "    Error_cv_ols_c_r = Error_cv_ols + Correction_ols_r\n",
    "    Error_cv_ridge_c_r = Error_cv_ridge + Correction_ridge_r"
   ]
  },
  {
   "cell_type": "code",
   "execution_count": 31,
   "metadata": {},
   "outputs": [
    {
     "data": {
      "text/plain": [
       "0.9585450392922745"
      ]
     },
     "execution_count": 31,
     "metadata": {},
     "output_type": "execute_result"
    }
   ],
   "source": [
    "Error_cv_lmm_c_r"
   ]
  },
  {
   "cell_type": "code",
   "execution_count": 32,
   "metadata": {},
   "outputs": [],
   "source": [
    "    # using sampled dataset from training data to correct\n",
    "    V_tr_te_sample = 1 / sc * sigmas[0] * W_tr @ W_te_sample.T\n",
    "\n",
    "    H_te_wls_s = X_te_sample @ inv(X_tr.T @ V_inv @ X_tr) @ X_tr.T @ V_inv\n",
    "    H_te_lmm_s = H_te_wls_s + V_tr_te_sample.T @ V_inv @ (\n",
    "        np.identity(n_tr) - X_tr @ inv(X_tr.T @ V_inv @ X_tr) @ X_tr.T @ V_inv)\n",
    "    H_te_ols_s = X_te_sample @ inv(X_tr.T @ X_tr) @ X_tr.T\n",
    "    H_te_ridge_s = X_te_sample @ inv(X_tr.T @ X_tr + lamb *\n",
    "                                     np.identity(X_tr.shape[1])) @ X_tr.T\n",
    "\n",
    "    Correction_lmm_s = 2 * (1 / n_tr * np.trace(H_cv_lmm_k @ V) -\n",
    "                            1 / n_te * np.trace(H_te_lmm_s @ V_tr_te_sample))\n",
    "    Correction_wls_s = 2 * (1 / n_tr * np.trace(H_cv_wls_k @ V) -\n",
    "                            1 / n_te * np.trace(H_te_wls_s @ V_tr_te_sample))\n",
    "    Correction_ols_s = 2 * (1 / n_tr * np.trace(H_cv_ols_k @ V) -\n",
    "                            1 / n_te * np.trace(H_te_ols_s @ V_tr_te_sample))\n",
    "    Correction_ridge_s = 2 * (1 / n_tr * np.trace(H_cv_ols_k @ V) - 1 / n_te *\n",
    "                              np.trace(H_te_ridge_s @ V_tr_te_sample))\n",
    "\n",
    "    Error_cv_lmm_c_s = Error_cv_lmm + Correction_lmm_s\n",
    "    Error_cv_wls_c_s = Error_cv_wls + Correction_wls_s\n",
    "    Error_cv_ols_c_s = Error_cv_ols + Correction_ols_s\n",
    "    Error_cv_ridge_c_s = Error_cv_ridge + Correction_ridge_s"
   ]
  },
  {
   "cell_type": "code",
   "execution_count": 33,
   "metadata": {},
   "outputs": [
    {
     "data": {
      "text/plain": [
       "0.6226750179773686"
      ]
     },
     "execution_count": 33,
     "metadata": {},
     "output_type": "execute_result"
    }
   ],
   "source": [
    "Error_cv_lmm_c_s"
   ]
  }
 ],
 "metadata": {
  "kernelspec": {
   "display_name": "base",
   "language": "python",
   "name": "python3"
  },
  "language_info": {
   "codemirror_mode": {
    "name": "ipython",
    "version": 3
   },
   "file_extension": ".py",
   "mimetype": "text/x-python",
   "name": "python",
   "nbconvert_exporter": "python",
   "pygments_lexer": "ipython3",
   "version": "3.9.12"
  },
  "orig_nbformat": 4,
  "vscode": {
   "interpreter": {
    "hash": "49cb93f377a7abe7414b7b0f21fb3017538004a126cf690fb524202736b7fb92"
   }
  }
 },
 "nbformat": 4,
 "nbformat_minor": 2
}
