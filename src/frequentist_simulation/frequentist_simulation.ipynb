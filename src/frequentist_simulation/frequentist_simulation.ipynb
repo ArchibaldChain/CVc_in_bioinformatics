{
 "cells": [
  {
   "cell_type": "code",
   "execution_count": 1,
   "metadata": {},
   "outputs": [
    {
     "name": "stdout",
     "output_type": "stream",
     "text": [
      "e:\\OneDrive\\Programming\\Python\\CVc_in_bio_informatics\\src\n"
     ]
    }
   ],
   "source": [
    "import pandas as pd\n",
    "import numpy as np\n",
    "from sklearn.model_selection import train_test_split\n",
    "import os, sys\n",
    "\n",
    "sys.path.append('./src')\n",
    "from utils import *\n",
    "from FAST_LMM.FaST_LMM import FASTLMM\n",
    "from bslmm_simulation import gemma_operator as gemma\n",
    "from arguments import get_args\n",
    "\n",
    "from frequentist_simulation.H_functions import *\n",
    "from frequentist_simulation.simulation  import *"
   ]
  },
  {
   "cell_type": "code",
   "execution_count": 2,
   "metadata": {},
   "outputs": [],
   "source": [
    "%load_ext autoreload\n",
    "%autoreload 2"
   ]
  },
  {
   "cell_type": "code",
   "execution_count": 3,
   "metadata": {},
   "outputs": [],
   "source": [
    "SNP_file='../data/SNP_in_200GENE_chr1.csv'\n",
    "# save_path='simulation_output'\n",
    "num_fixed_snps=200\n",
    "simulation_times=100\n",
    "num_large_effect=200\n",
    "large_effect=400\n",
    "small_effect=2\n",
    "n_folds=10"
   ]
  },
  {
   "cell_type": "code",
   "execution_count": 4,
   "metadata": {},
   "outputs": [],
   "source": [
    "SNPs = load(SNP_file)"
   ]
  },
  {
   "cell_type": "code",
   "execution_count": 5,
   "metadata": {},
   "outputs": [
    {
     "data": {
      "text/plain": [
       "(2548, 10000)"
      ]
     },
     "execution_count": 5,
     "metadata": {},
     "output_type": "execute_result"
    }
   ],
   "source": [
    "SNPs.shape"
   ]
  },
  {
   "cell_type": "code",
   "execution_count": 6,
   "metadata": {},
   "outputs": [],
   "source": [
    "y = phenotype_simulator(SNPs, num_large_effect, large_effect,\n",
    "                        small_effect)"
   ]
  },
  {
   "cell_type": "code",
   "execution_count": 7,
   "metadata": {},
   "outputs": [
    {
     "name": "stdout",
     "output_type": "stream",
     "text": [
      "------------- FAST-LMM------------------\n",
      "LowRank is set as True, not using REML\n",
      "Rank of W is 2038, shape of W is (2038, 10000).\n",
      "--- 25.78562068939209 seconds for SVD calculation ---\n",
      "Optimization Results:\n",
      "Delta is calculated as:  9999872609.82299\n",
      "Maximum Likelihood is calculated as:  -2186.1607359032896\n",
      "---------------Summary------------------\n",
      "LowRank is set as True, not using REML\n",
      "Heritability h2: 1.000012739079983e-10\n",
      "Sigma_g2: 5.003406278766264e-11\n",
      "Sigma_e2: 0.5003342540285114\n",
      "------ 36.94467735290527 seconds ------\n",
      "(5.003406278766264e-11, 0.5003342540285114)\n",
      "First 5 fold indices : [(0, 204), (204, 408), (408, 612), (612, 816), (816, 1020)]\n",
      "First 5 fold indices : [(0, 204), (204, 408), (408, 612), (612, 816), (816, 1020)]\n",
      "First 5 fold indices : [(0, 204), (204, 408), (408, 612), (612, 816), (816, 1020)]\n",
      "First 5 fold indices : [(0, 204), (204, 408), (408, 612), (612, 816), (816, 1020)]\n",
      "The CV error of   lmm is 0.6262, wls is 0.6262, and ols is 0.6262, and ridge is 0.7008\n",
      "The CVc error of  lmm is 0.6262, wls is 0.6262, and ols is 0.6262, and ridge is 0.7008\n",
      "The CVc random of  lmm is 0.6262, wls is 0.6262, and ols is 0.6262, and ridge is 0.7008\n",
      "The CVc sample of  lmm is 0.6262, wls is 0.6262, and ols is 0.6262, and ridge is 0.7008\n",
      "The test error of lmm is 0.6113, wls is 0.6113, and ols is 0.6113, and ridge is 0.6787\n"
     ]
    }
   ],
   "source": [
    "lmm, wls, ols, ridge = cross_validation_correction(SNPs,\n",
    "                                                    y,\n",
    "                                                    num_fixed_snps,\n",
    "                                                    n_folds=n_folds)"
   ]
  },
  {
   "cell_type": "code",
   "execution_count": 14,
   "metadata": {},
   "outputs": [
    {
     "name": "stdout",
     "output_type": "stream",
     "text": [
      "------------- FAST-LMM------------------\n",
      "LowRank is set as True, not using REML\n",
      "Rank of W is 2038, shape of W is (2038, 10000).\n",
      "--- 23.7825186252594 seconds for SVD calculation ---\n",
      "Optimization Results:\n",
      "Delta is calculated as:  9999053386.458548\n",
      "Maximum Likelihood is calculated as:  -2145.5219743929956\n",
      "---------------Summary------------------\n",
      "LowRank is set as True, not using REML\n",
      "Heritability h2: 1.0000946702157466e-10\n",
      "Sigma_g2: 4.8081858022614785e-11\n",
      "Sigma_e2: 0.4807730652882454\n",
      "------ 23.159883975982666 seconds ------\n",
      "(4.8081858022614785e-11, 0.4807730652882454)\n",
      "First 5 fold indices : [(0, 204), (204, 408), (408, 612), (612, 816), (816, 1020)]\n",
      "First 5 fold indices : [(0, 204), (204, 408), (408, 612), (612, 816), (816, 1020)]\n",
      "First 5 fold indices : [(0, 204), (204, 408), (408, 612), (612, 816), (816, 1020)]\n",
      "First 5 fold indices : [(0, 204), (204, 408), (408, 612), (612, 816), (816, 1020)]\n",
      "w\n",
      "-2.789563585843622e-13 -2.7895720036532005e-13 -2.789572008421638e-13 -2.789572008421638e-13\n",
      "The CV error of   lmm is 0.6327, wls is 0.6327, and ols is 0.6327, and ridge is 0.6916\n",
      "The CVc error of  lmm is 0.6327, wls is 0.6327, and ols is 0.6327, and ridge is 0.6916\n",
      "The CVc random of  lmm is 0.6327, wls is 0.6327, and ols is 0.6327, and ridge is 0.6916\n",
      "The CVc sample of  lmm is 0.6327, wls is 0.6327, and ols is 0.6327, and ridge is 0.6916\n",
      "The test error of lmm is 0.6255, wls is 0.6255, and ols is 0.6255, and ridge is 0.6857\n"
     ]
    }
   ],
   "source": [
    "num_fixed_snps = 250\n",
    "lmm, wls, ols, ridge = cross_validation_correction(SNPs,\n",
    "                                                    y,\n",
    "                                                    num_fixed_snps,\n",
    "                                                    n_folds=n_folds)"
   ]
  },
  {
   "cell_type": "code",
   "execution_count": 13,
   "metadata": {},
   "outputs": [
    {
     "name": "stdout",
     "output_type": "stream",
     "text": [
      "------------- FAST-LMM------------------\n",
      "LowRank is set as True, not using REML\n",
      "Rank of W is 2038, shape of W is (2038, 10000).\n",
      "--- 24.72143006324768 seconds for SVD calculation ---\n",
      "Optimization Results:\n",
      "Delta is calculated as:  9431057208.56878\n",
      "Maximum Likelihood is calculated as:  -2099.1382043392987\n",
      "---------------Summary------------------\n",
      "LowRank is set as True, not using REML\n",
      "Heritability h2: 1.0603265124777282e-10\n",
      "Sigma_g2: 4.870921581943959e-11\n",
      "Sigma_e2: 0.4593794009776582\n",
      "------ 81.45379304885864 seconds ------\n",
      "(4.870921581943959e-11, 0.4593794009776582)\n",
      "First 5 fold indices : [(0, 204), (204, 408), (408, 612), (612, 816), (816, 1020)]\n",
      "First 5 fold indices : [(0, 204), (204, 408), (408, 612), (612, 816), (816, 1020)]\n",
      "First 5 fold indices : [(0, 204), (204, 408), (408, 612), (612, 816), (816, 1020)]\n",
      "First 5 fold indices : [(0, 204), (204, 408), (408, 612), (612, 816), (816, 1020)]\n",
      "w\n",
      "-58915562989635.78 -58915562989635.78 1.2159607539690448e-13 1.2159607539690448e-13\n",
      "The CV error of   lmm is 960838791976485481779139059790488672507676065792.0000, wls is 960838791976485481779139059790488672507676065792.0000, and ols is 0.6416, and ridge is 0.6741\n",
      "The CVc error of  lmm is 960838791976485481779139059790488672507676065792.0000, wls is 960838791976485481779139059790488672507676065792.0000, and ols is 0.6416, and ridge is 0.6741\n",
      "The CVc random of  lmm is 960838791976485481779139059790488672507676065792.0000, wls is 960838791976485481779139059790488672507676065792.0000, and ols is 0.6416, and ridge is 0.6741\n",
      "The CVc sample of  lmm is 960838791976485481779139059790488672507676065792.0000, wls is 960838791976485481779139059790488672507676065792.0000, and ols is 0.6416, and ridge is 0.6741\n",
      "The test error of lmm is 0.6723, wls is 0.6723, and ols is 0.6723, and ridge is 0.7597\n"
     ]
    }
   ],
   "source": [
    "num_fixed_snps = 300\n",
    "lmm, wls, ols, ridge = cross_validation_correction(SNPs,\n",
    "                                                    y,\n",
    "                                                    num_fixed_snps,\n",
    "                                                    n_folds=n_folds)"
   ]
  },
  {
   "cell_type": "code",
   "execution_count": 15,
   "metadata": {},
   "outputs": [
    {
     "name": "stdout",
     "output_type": "stream",
     "text": [
      "------------- FAST-LMM------------------\n",
      "LowRank is set as True, not using REML\n",
      "Rank of W is 2038, shape of W is (2038, 10000).\n",
      "--- 23.76365041732788 seconds for SVD calculation ---\n",
      "Optimization Results:\n",
      "Delta is calculated as:  9948479165.067354\n",
      "Maximum Likelihood is calculated as:  -2033.7077776033038\n",
      "---------------Summary------------------\n",
      "LowRank is set as True, not using REML\n",
      "Heritability h2: 1.005178764821499e-10\n",
      "Sigma_g2: 4.3304057180496934e-11\n",
      "Sigma_e2: 0.4308095106230591\n",
      "------ 62.245965242385864 seconds ------\n",
      "(4.3304057180496934e-11, 0.4308095106230591)\n",
      "First 5 fold indices : [(0, 204), (204, 408), (408, 612), (612, 816), (816, 1020)]\n",
      "First 5 fold indices : [(0, 204), (204, 408), (408, 612), (612, 816), (816, 1020)]\n",
      "First 5 fold indices : [(0, 204), (204, 408), (408, 612), (612, 816), (816, 1020)]\n",
      "First 5 fold indices : [(0, 204), (204, 408), (408, 612), (612, 816), (816, 1020)]\n",
      "w\n",
      "5.45464459139297e-13 5.454637512621945e-13 5.454637508947712e-13 5.454637508947712e-13\n",
      "The CV error of   lmm is 0.6989, wls is 0.6989, and ols is 0.6989, and ridge is 0.6810\n",
      "The CVc error of  lmm is 0.6989, wls is 0.6989, and ols is 0.6989, and ridge is 0.6810\n",
      "The CVc random of  lmm is 0.6989, wls is 0.6989, and ols is 0.6989, and ridge is 0.6810\n",
      "The CVc sample of  lmm is 0.6989, wls is 0.6989, and ols is 0.6989, and ridge is 0.6810\n",
      "The test error of lmm is 0.6464, wls is 0.6464, and ols is 0.6464, and ridge is 0.6298\n"
     ]
    }
   ],
   "source": [
    "num_fixed_snps = 400\n",
    "lmm, wls, ols, ridge = cross_validation_correction(SNPs,\n",
    "                                                    y,\n",
    "                                                    num_fixed_snps,\n",
    "                                                    n_folds=n_folds)"
   ]
  },
  {
   "cell_type": "code",
   "execution_count": 19,
   "metadata": {},
   "outputs": [
    {
     "name": "stdout",
     "output_type": "stream",
     "text": [
      "--------- 10 -------------\n",
      "(1.51, 0.48)\n",
      "First 5 fold indices : [(0, 204), (204, 408), (408, 612), (612, 816), (816, 1020)]\n",
      "First 5 fold indices : [(0, 204), (204, 408), (408, 612), (612, 816), (816, 1020)]\n",
      "First 5 fold indices : [(0, 204), (204, 408), (408, 612), (612, 816), (816, 1020)]\n",
      "First 5 fold indices : [(0, 204), (204, 408), (408, 612), (612, 816), (816, 1020)]\n",
      "The CV error of   lmm is 0.6600, wls is 1.0850, and ols is 0.9496, and ridge is 0.9727\n",
      "The CVc error of  lmm is 0.6698, wls is 1.1167, and ols is 0.9398, and ridge is 0.9629\n",
      "The CVc random of  lmm is 1.1901, wls is 1.2392, and ols is 1.2357, and ridge is 1.7101\n",
      "The CVc sample of  lmm is 0.6101, wls is 1.1173, and ols is 0.9386, and ridge is 1.1609\n",
      "The test error of lmm is 0.6623, wls is 0.9856, and ols is 0.8786, and ridge is 0.9060\n",
      "--------- 20 -------------\n",
      "(1.51, 0.48)\n",
      "First 5 fold indices : [(0, 204), (204, 408), (408, 612), (612, 816), (816, 1020)]\n",
      "First 5 fold indices : [(0, 204), (204, 408), (408, 612), (612, 816), (816, 1020)]\n",
      "First 5 fold indices : [(0, 204), (204, 408), (408, 612), (612, 816), (816, 1020)]\n",
      "First 5 fold indices : [(0, 204), (204, 408), (408, 612), (612, 816), (816, 1020)]\n",
      "The CV error of   lmm is 0.6564, wls is 1.0872, and ols is 0.9074, and ridge is 0.9358\n",
      "The CVc error of  lmm is 0.6778, wls is 1.1172, and ols is 0.9026, and ridge is 0.9310\n",
      "The CVc random of  lmm is 1.1817, wls is 1.2692, and ols is 1.2105, and ridge is 1.6157\n",
      "The CVc sample of  lmm is 0.6168, wls is 1.1184, and ols is 0.8930, and ridge is 1.1029\n",
      "The test error of lmm is 0.6820, wls is 1.1155, and ols is 0.9441, and ridge is 0.9742\n",
      "--------- 30 -------------\n",
      "(1.51, 0.48)\n",
      "First 5 fold indices : [(0, 204), (204, 408), (408, 612), (612, 816), (816, 1020)]\n",
      "First 5 fold indices : [(0, 204), (204, 408), (408, 612), (612, 816), (816, 1020)]\n",
      "First 5 fold indices : [(0, 204), (204, 408), (408, 612), (612, 816), (816, 1020)]\n",
      "First 5 fold indices : [(0, 204), (204, 408), (408, 612), (612, 816), (816, 1020)]\n",
      "The CV error of   lmm is 1.9664, wls is 2.2893, and ols is 255182717388704897928126493884416.0000, and ridge is 0.9383\n",
      "The CVc error of  lmm is 2.0080, wls is 2.3458, and ols is 255182717388704897928126493884416.0000, and ridge is -10436217270506364.0000\n",
      "The CVc random of  lmm is 2.5229, wls is 2.5227, and ols is 255182717388704897928126493884416.0000, and ridge is -10436217270506364.0000\n",
      "The CVc sample of  lmm is 1.9639, wls is 2.3464, and ols is 255182717388704897928126493884416.0000, and ridge is -10436217270506364.0000\n",
      "The test error of lmm is 0.6374, wls is 0.9625, and ols is 0.8098, and ridge is 0.8434\n",
      "--------- 40 -------------\n",
      "(1.51, 0.48)\n",
      "First 5 fold indices : [(0, 204), (204, 408), (408, 612), (612, 816), (816, 1020)]\n",
      "First 5 fold indices : [(0, 204), (204, 408), (408, 612), (612, 816), (816, 1020)]\n",
      "First 5 fold indices : [(0, 204), (204, 408), (408, 612), (612, 816), (816, 1020)]\n",
      "First 5 fold indices : [(0, 204), (204, 408), (408, 612), (612, 816), (816, 1020)]\n",
      "The CV error of   lmm is 102725020755344923750782175333580800.0000, wls is 10.7364, and ols is 0.8790, and ridge is 0.9078\n",
      "The CVc error of  lmm is 102725020755344923750782175333580800.0000, wls is -32538623266493.0938, and ols is 0.8892, and ridge is 0.9180\n",
      "The CVc random of  lmm is 102725020755344923750782175333580800.0000, wls is 1059443239155256.5000, and ols is 1.3204, and ridge is 1.7482\n",
      "The CVc sample of  lmm is 102725020755344923750782175333580800.0000, wls is 10.8556, and ols is 0.8760, and ridge is 1.0502\n",
      "The test error of lmm is 117262370449231971474664572852371456.0000, wls is 40791386642002701894450937856.0000, and ols is 0.9053, and ridge is 0.9608\n",
      "--------- 50 -------------\n",
      "(1.51, 0.48)\n",
      "First 5 fold indices : [(0, 204), (204, 408), (408, 612), (612, 816), (816, 1020)]\n",
      "First 5 fold indices : [(0, 204), (204, 408), (408, 612), (612, 816), (816, 1020)]\n",
      "First 5 fold indices : [(0, 204), (204, 408), (408, 612), (612, 816), (816, 1020)]\n",
      "First 5 fold indices : [(0, 204), (204, 408), (408, 612), (612, 816), (816, 1020)]\n",
      "The CV error of   lmm is 38573790811396559890945348206592.0000, wls is 306.3246, and ols is 9222762416413529491000786944.0000, and ridge is 0.8851\n",
      "The CVc error of  lmm is 38573790811396559890945348206592.0000, wls is -8001678078792.1768, and ols is 9222762416413416241303126016.0000, and ridge is -113631547712427.4062\n",
      "The CVc random of  lmm is 38573790811396559890945348206592.0000, wls is -135025244611989.7344, and ols is 9222762416413411843256614912.0000, and ridge is -117921215721689.0469\n",
      "The CVc sample of  lmm is 38573790811396559890945348206592.0000, wls is -7972671922282.1133, and ols is 9222762416413416241303126016.0000, and ridge is -117921215721689.7969\n",
      "The test error of lmm is 161916457338089349237698310701056.0000, wls is 117564006160647693999063531782144.0000, and ols is 7297861577558918902579200.0000, and ridge is 0.9687\n",
      "--------- 60 -------------\n",
      "(1.51, 0.48)\n",
      "First 5 fold indices : [(0, 204), (204, 408), (408, 612), (612, 816), (816, 1020)]\n",
      "First 5 fold indices : [(0, 204), (204, 408), (408, 612), (612, 816), (816, 1020)]\n",
      "First 5 fold indices : [(0, 204), (204, 408), (408, 612), (612, 816), (816, 1020)]\n",
      "First 5 fold indices : [(0, 204), (204, 408), (408, 612), (612, 816), (816, 1020)]\n",
      "The CV error of   lmm is 2261898315605120970925083977580544.0000, wls is 2261898315605120682694707825868800.0000, and ols is 235768715506400166940770304.0000, and ridge is 0.8908\n",
      "The CVc error of  lmm is 2261898315605120970925083977580544.0000, wls is 2261898315605120682694707825868800.0000, and ols is 235768715506399651544694784.0000, and ridge is -505659404877.7527\n",
      "The CVc random of  lmm is 2261898315605120970925083977580544.0000, wls is 2261898315605120682694707825868800.0000, and ols is 235768715506406660931321856.0000, and ridge is 23341850374.5586\n",
      "The CVc sample of  lmm is 2261898315605120970925083977580544.0000, wls is 2261898315605120682694707825868800.0000, and ols is 235768715506393466791788544.0000, and ridge is 23341850373.7719\n",
      "The test error of lmm is 0.7078, wls is 1.1416, and ols is 91395435524958407169671168.0000, and ridge is 0.9171\n",
      "--------- 70 -------------\n",
      "(1.51, 0.48)\n",
      "First 5 fold indices : [(0, 204), (204, 408), (408, 612), (612, 816), (816, 1020)]\n",
      "First 5 fold indices : [(0, 204), (204, 408), (408, 612), (612, 816), (816, 1020)]\n",
      "First 5 fold indices : [(0, 204), (204, 408), (408, 612), (612, 816), (816, 1020)]\n",
      "First 5 fold indices : [(0, 204), (204, 408), (408, 612), (612, 816), (816, 1020)]\n",
      "The CV error of   lmm is 567135509297518664192437824520192.0000, wls is 567135509297518664192437824520192.0000, and ols is 205202167087565105645030998016.0000, and ridge is 0.8996\n",
      "The CVc error of  lmm is 567135509297518664192437824520192.0000, wls is 567135509297518664192437824520192.0000, and ols is 205202167087564929723170553856.0000, and ridge is -184748520577509.9375\n",
      "The CVc random of  lmm is 567135509297518664192437824520192.0000, wls is 567135509297518664192437824520192.0000, and ols is 205202167087564929723170553856.0000, and ridge is -184748520577509.2188\n",
      "The CVc sample of  lmm is 567135509297518664192437824520192.0000, wls is 567135509297518664192437824520192.0000, and ols is 205202167087564929723170553856.0000, and ridge is -184748520577509.9688\n",
      "The test error of lmm is 0.6676, wls is 0.9936, and ols is 0.8674, and ridge is 0.8671\n",
      "--------- 80 -------------\n",
      "(1.51, 0.48)\n",
      "First 5 fold indices : [(0, 204), (204, 408), (408, 612), (612, 816), (816, 1020)]\n",
      "First 5 fold indices : [(0, 204), (204, 408), (408, 612), (612, 816), (816, 1020)]\n",
      "First 5 fold indices : [(0, 204), (204, 408), (408, 612), (612, 816), (816, 1020)]\n",
      "First 5 fold indices : [(0, 204), (204, 408), (408, 612), (612, 816), (816, 1020)]\n",
      "The CV error of   lmm is 475024174057479226785188020224.0000, wls is 19498034359236897477985566720.0000, and ols is 126510687831790005092899356672.0000, and ridge is 0.8861\n",
      "The CVc error of  lmm is 475024174057479226785188020224.0000, wls is 19498034359236897477985566720.0000, and ols is 126510687831790497674108600320.0000, and ridge is 497110426743461.3125\n",
      "The CVc random of  lmm is 475024174057479226785188020224.0000, wls is 19498034359236875487753011200.0000, and ols is 126510687831790268975690022912.0000, and ridge is 500835712101404.9375\n",
      "The CVc sample of  lmm is 475024174057479226785188020224.0000, wls is 19498034359236897477985566720.0000, and ols is 126510687831790497674108600320.0000, and ridge is 500835712101404.1875\n",
      "The test error of lmm is 4457004004630499286790979977216.0000, wls is 3901005621830594189049395675136.0000, and ols is 43302238429617099099865088.0000, and ridge is 0.8844\n",
      "--------- 90 -------------\n",
      "(1.51, 0.48)\n",
      "First 5 fold indices : [(0, 204), (204, 408), (408, 612), (612, 816), (816, 1020)]\n",
      "First 5 fold indices : [(0, 204), (204, 408), (408, 612), (612, 816), (816, 1020)]\n",
      "First 5 fold indices : [(0, 204), (204, 408), (408, 612), (612, 816), (816, 1020)]\n",
      "First 5 fold indices : [(0, 204), (204, 408), (408, 612), (612, 816), (816, 1020)]\n",
      "The CV error of   lmm is 851228482660759651719979246551040.0000, wls is 851228482660759651719979246551040.0000, and ols is 233777281591684027771781120.0000, and ridge is 0.8755\n",
      "The CVc error of  lmm is 851228482660759651719979246551040.0000, wls is 851228482660759651719979246551040.0000, and ols is 233777281591677911738351616.0000, and ridge is -6124314717334.9463\n",
      "The CVc random of  lmm is 851228482660759651719979246551040.0000, wls is 851228482660759651719979246551040.0000, and ols is 233777281591677911738351616.0000, and ridge is -6124314717334.7188\n",
      "The CVc sample of  lmm is 851228482660759651719979246551040.0000, wls is 851228482660759651719979246551040.0000, and ols is 233777281591677911738351616.0000, and ridge is -6124314717335.5879\n",
      "The test error of lmm is 0.6930, wls is 1.0439, and ols is 0.9463, and ridge is 0.9137\n"
     ]
    }
   ],
   "source": [
    "for num_fixed_snps in range(10, 100,10):\n",
    "    print('---------', num_fixed_snps, '-------------')\n",
    "    lmm, wls, ols, ridge = cross_validation_correction(SNPs,\n",
    "                                                    y,\n",
    "                                                    num_fixed_snps,\n",
    "                                                    n_folds=n_folds)"
   ]
  },
  {
   "cell_type": "code",
   "execution_count": 12,
   "metadata": {},
   "outputs": [
    {
     "name": "stdout",
     "output_type": "stream",
     "text": [
      "------------- FAST-LMM------------------\n",
      "LowRank is set as True, not using REML\n",
      "Rank of W is 2038, shape of W is (2038, 10000).\n",
      "--- 23.474916458129883 seconds for SVD calculation ---\n",
      "Optimization Results:\n",
      "Delta is calculated as:  8815800325.942898\n",
      "Maximum Likelihood is calculated as:  -1985.8142379421915\n",
      "---------------Summary------------------\n",
      "LowRank is set as True, not using REML\n",
      "Heritability h2: 1.1343269617209846e-10\n",
      "Sigma_g2: 4.662420789540225e-11\n",
      "Sigma_e2: 0.4110297071611166\n",
      "------ 69.53646039962769 seconds ------\n",
      "(4.662420789540225e-11, 0.4110297071611166)\n",
      "First 5 fold indices : [(0, 204), (204, 408), (408, 612), (612, 816), (816, 1020)]\n",
      "First 5 fold indices : [(0, 204), (204, 408), (408, 612), (612, 816), (816, 1020)]\n",
      "First 5 fold indices : [(0, 204), (204, 408), (408, 612), (612, 816), (816, 1020)]\n",
      "First 5 fold indices : [(0, 204), (204, 408), (408, 612), (612, 816), (816, 1020)]\n",
      "The CV error of   lmm is 0.7450, wls is 0.7450, and ols is 0.7450, and ridge is 0.6798\n",
      "The CVc error of  lmm is 0.7450, wls is 0.7450, and ols is 0.7450, and ridge is 0.6798\n",
      "The CVc random of  lmm is 0.7450, wls is 0.7450, and ols is 0.7450, and ridge is 0.6798\n",
      "The CVc sample of  lmm is 0.7450, wls is 0.7450, and ols is 0.7450, and ridge is 0.6798\n",
      "The test error of lmm is 0.6666, wls is 0.6666, and ols is 0.6666, and ridge is 0.6060\n"
     ]
    }
   ],
   "source": [
    "num_fixed_snps = 500\n",
    "lmm, wls, ols, ridge = cross_validation_correction(SNPs,\n",
    "                                                    y,\n",
    "                                                    num_fixed_snps,\n",
    "                                                    n_folds=n_folds)"
   ]
  },
  {
   "cell_type": "code",
   "execution_count": 27,
   "metadata": {},
   "outputs": [
    {
     "name": "stdout",
     "output_type": "stream",
     "text": [
      "[0.6589378205018179, 0.6957170557787853, 1.1554689999530212, 0.6234574675279339, 0.6638732846182736]\n",
      "[1.9748016533307975, 2.0037458352114967, 2.1656275956338247, 2.003063422619314, 2.025072027888841]\n",
      "[0.9189247855617997, 0.9331732005760811, 1.255427168122369, 0.9101630083751724, 0.8852814620987294]\n",
      "[0.9216329998905821, 0.9358814149048635, 1.6514285921543082, 0.9486077929431156, 0.8986186016960664]\n"
     ]
    }
   ],
   "source": [
    "print(lmm, wls, ols, ridge,sep=\"\\n\")"
   ]
  },
  {
   "cell_type": "code",
   "execution_count": 20,
   "metadata": {},
   "outputs": [],
   "source": [
    "    n = SNPs.shape[0]\n",
    "    data = np.concatenate([np.ones([n, 1]), SNPs], axis=1)\n",
    "    G_tr, G_te, y_tr, y_te = train_test_split(data, y, test_size=0.2)\n",
    "    \n"
   ]
  },
  {
   "cell_type": "code",
   "execution_count": 30,
   "metadata": {},
   "outputs": [],
   "source": [
    "    d = 200\n",
    "    X_tr, X_te = G_tr[:, :d + 1], G_te[:, :d + 1]\n",
    "    W_tr, W_te = G_tr[:, 1:], G_te[:, 1:]\n",
    "    n_tr, sc = W_tr.shape"
   ]
  },
  {
   "cell_type": "code",
   "execution_count": 31,
   "metadata": {},
   "outputs": [
    {
     "name": "stdout",
     "output_type": "stream",
     "text": [
      "------------- FAST-LMM------------------\n",
      "LowRank is set as True, not using REML\n",
      "Rank of W is 2038, shape of W is (2038, 10000).\n",
      "--- 24.51263689994812 seconds for SVD calculation ---\n",
      "Optimization Results:\n",
      "Delta is calculated as:  0.8168379588849428\n",
      "Maximum Likelihood is calculated as:  -2453.372330889704\n",
      "---------------Summary------------------\n",
      "LowRank is set as True, not using REML\n",
      "Heritability h2: 0.5504068181257811\n",
      "Sigma_g2: 0.6587532436925849\n",
      "Sigma_e2: 0.5380946549866864\n",
      "------ 6.773089170455933 seconds ------\n"
     ]
    }
   ],
   "source": [
    "    fast = FASTLMM(lowRank=True, REML=False)\n",
    "    fast.fit(X_tr, y_tr, 1 / np.sqrt(sc) * W_tr)\n",
    "    sigmas = (fast.sigma_g2, fast.sigma_e2)"
   ]
  },
  {
   "cell_type": "code",
   "execution_count": 32,
   "metadata": {},
   "outputs": [],
   "source": [
    "K_relatedness = 1 / sc * W_tr @ W_tr.T\n",
    "#sigmas = gemma.gemma_var_estimator(y_tr, K_relatedness, 'var_component')\n",
    "#print(sigmas)\n",
    "V = sigmas[0] * K_relatedness + sigmas[1] * np.identity(n_tr)\n",
    "V_inv = inv(V)"
   ]
  },
  {
   "cell_type": "code",
   "execution_count": 33,
   "metadata": {},
   "outputs": [
    {
     "name": "stdout",
     "output_type": "stream",
     "text": [
      "First 5 fold indices : [(0, 204), (204, 408), (408, 612), (612, 816), (816, 1020)]\n",
      "First 5 fold indices : [(0, 204), (204, 408), (408, 612), (612, 816), (816, 1020)]\n",
      "First 5 fold indices : [(0, 204), (204, 408), (408, 612), (612, 816), (816, 1020)]\n",
      "First 5 fold indices : [(0, 204), (204, 408), (408, 612), (612, 816), (816, 1020)]\n"
     ]
    }
   ],
   "source": [
    "    H_cv_ols_k = getHcv_for_Kfolds(X_tr, y_tr, H_function_ols, nfolds=n_folds)\n",
    "\n",
    "    ### WLS\n",
    "    H_cv_wls_k = getHcv_for_Kfolds(X_tr,\n",
    "                                   y_tr,\n",
    "                                   H_function_wls,\n",
    "                                   nfolds=n_folds,\n",
    "                                   V=V)\n",
    "\n",
    "    ### LMM\n",
    "    H_cv_lmm_k = H_function_lmm(X_tr, H_cv_wls_k, V=V)\n",
    "\n",
    "    #### Ridge\n",
    "    lamb = 1000\n",
    "    H_cv_ridge_k = getHcv_for_Kfolds(X_tr,\n",
    "                                     y_tr,\n",
    "                                     H_function_ridge,\n",
    "                                     nfolds=n_folds,\n",
    "                                     lamb=lamb)"
   ]
  },
  {
   "cell_type": "code",
   "execution_count": 35,
   "metadata": {},
   "outputs": [],
   "source": [
    "    Error_cv_lmm = 1 / n_tr * (np.sum(np.square(y_tr - H_cv_lmm_k @ y_tr)))\n",
    "    Error_cv_wls = 1 / n_tr * (np.sum(np.square(y_tr - H_cv_wls_k @ y_tr)))\n",
    "    Error_cv_ols = 1 / n_tr * (np.sum(np.square(y_tr - H_cv_ols_k @ y_tr)))\n",
    "    Error_cv_ridge = 1 / n_tr * (np.sum(np.square(y_tr - H_cv_ridge_k @ y_tr)))"
   ]
  },
  {
   "cell_type": "code",
   "execution_count": 43,
   "metadata": {},
   "outputs": [],
   "source": [
    "n_tr = X_tr.shape[0]\n",
    "n_te = X_te.shape[0]"
   ]
  },
  {
   "cell_type": "code",
   "execution_count": 44,
   "metadata": {},
   "outputs": [],
   "source": [
    "V_tr_te = 1 / sc * sigmas[0] * W_tr @ W_te.T\n",
    "\n",
    "H_te_wls = X_te @ inv(X_tr.T @ V_inv @ X_tr) @ X_tr.T @ V_inv\n",
    "H_te_lmm = H_te_wls + V_tr_te.T @ V_inv @ (\n",
    "    np.identity(n_tr) - X_tr @ inv(X_tr.T @ V_inv @ X_tr) @ X_tr.T @ V_inv)\n",
    "H_te_ols = X_te @ inv(X_tr.T @ X_tr) @ X_tr.T\n",
    "H_te_ridge = X_te @ inv(X_tr.T @ X_tr +\n",
    "                        lamb * np.identity(X_tr.shape[1])) @ X_tr.T\n",
    "\n",
    "Error_te_lmm = 1 / n_te * (np.sum(np.square(y_te - H_te_lmm @ y_tr)))\n",
    "Error_te_wls = 1 / n_te * (np.sum(np.square(y_te - H_te_wls @ y_tr)))\n",
    "Error_te_ols = 1 / n_te * (np.sum(np.square(y_te - H_te_ols @ y_tr)))\n",
    "Error_te_ridge = 1 / n_te * (np.sum(np.square(y_te - H_te_ridge @ y_tr)))"
   ]
  },
  {
   "cell_type": "code",
   "execution_count": 45,
   "metadata": {},
   "outputs": [
    {
     "data": {
      "text/plain": [
       "7.066144554038559e+21"
      ]
     },
     "execution_count": 45,
     "metadata": {},
     "output_type": "execute_result"
    }
   ],
   "source": [
    "Error_te_ols"
   ]
  },
  {
   "cell_type": "code",
   "execution_count": 52,
   "metadata": {},
   "outputs": [],
   "source": [
    "\n",
    "y = W_tr @ np.linalg.pinv(W_tr.T @ W_tr) @ W_tr.T @ y_tr"
   ]
  },
  {
   "cell_type": "code",
   "execution_count": 50,
   "metadata": {},
   "outputs": [
    {
     "data": {
      "text/plain": [
       "1.6607256065182007e+25"
      ]
     },
     "execution_count": 50,
     "metadata": {},
     "output_type": "execute_result"
    }
   ],
   "source": [
    "np.sum((y - y_tr)**2)"
   ]
  }
 ],
 "metadata": {
  "kernelspec": {
   "display_name": "base",
   "language": "python",
   "name": "python3"
  },
  "language_info": {
   "codemirror_mode": {
    "name": "ipython",
    "version": 3
   },
   "file_extension": ".py",
   "mimetype": "text/x-python",
   "name": "python",
   "nbconvert_exporter": "python",
   "pygments_lexer": "ipython3",
   "version": "3.9.12"
  },
  "orig_nbformat": 4
 },
 "nbformat": 4,
 "nbformat_minor": 2
}
