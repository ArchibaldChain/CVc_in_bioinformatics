{
 "cells": [
  {
   "cell_type": "code",
   "execution_count": 57,
   "metadata": {},
   "outputs": [
    {
     "name": "stdout",
     "output_type": "stream",
     "text": [
      "The autoreload extension is already loaded. To reload it, use:\n",
      "  %reload_ext autoreload\n"
     ]
    }
   ],
   "source": [
    "import numpy as np\n",
    "import pandas as pd\n",
    "import matplotlib.pyplot as plt\n",
    "import os\n",
    "import seaborn as sns\n",
    "\n",
    "%matplotlib inline\n",
    "\n",
    "%load_ext autoreload\n",
    "%autoreload 2"
   ]
  },
  {
   "cell_type": "code",
   "execution_count": 59,
   "metadata": {},
   "outputs": [
    {
     "data": {
      "text/html": [
       "<div>\n",
       "<style scoped>\n",
       "    .dataframe tbody tr th:only-of-type {\n",
       "        vertical-align: middle;\n",
       "    }\n",
       "\n",
       "    .dataframe tbody tr th {\n",
       "        vertical-align: top;\n",
       "    }\n",
       "\n",
       "    .dataframe thead th {\n",
       "        text-align: right;\n",
       "    }\n",
       "</style>\n",
       "<table border=\"1\" class=\"dataframe\">\n",
       "  <thead>\n",
       "    <tr style=\"text-align: right;\">\n",
       "      <th></th>\n",
       "      <th>Error_cv_lmm</th>\n",
       "      <th>Error_cv_lmm_c</th>\n",
       "      <th>Error_cv_lmm_c_r</th>\n",
       "      <th>Error_cv_lmm_c_s</th>\n",
       "      <th>Error_te_lmm</th>\n",
       "    </tr>\n",
       "  </thead>\n",
       "  <tbody>\n",
       "    <tr>\n",
       "      <th>0</th>\n",
       "      <td>0.645153</td>\n",
       "      <td>0.675604</td>\n",
       "      <td>1.174700</td>\n",
       "      <td>0.601239</td>\n",
       "      <td>0.694969</td>\n",
       "    </tr>\n",
       "    <tr>\n",
       "      <th>1</th>\n",
       "      <td>0.617362</td>\n",
       "      <td>0.638520</td>\n",
       "      <td>1.112314</td>\n",
       "      <td>0.578515</td>\n",
       "      <td>0.667656</td>\n",
       "    </tr>\n",
       "    <tr>\n",
       "      <th>2</th>\n",
       "      <td>0.654335</td>\n",
       "      <td>0.696450</td>\n",
       "      <td>1.224464</td>\n",
       "      <td>0.630593</td>\n",
       "      <td>0.631622</td>\n",
       "    </tr>\n",
       "    <tr>\n",
       "      <th>3</th>\n",
       "      <td>0.643688</td>\n",
       "      <td>0.663144</td>\n",
       "      <td>1.066937</td>\n",
       "      <td>0.622475</td>\n",
       "      <td>0.547315</td>\n",
       "    </tr>\n",
       "    <tr>\n",
       "      <th>4</th>\n",
       "      <td>0.644600</td>\n",
       "      <td>0.656558</td>\n",
       "      <td>1.010270</td>\n",
       "      <td>0.625911</td>\n",
       "      <td>0.661486</td>\n",
       "    </tr>\n",
       "  </tbody>\n",
       "</table>\n",
       "</div>"
      ],
      "text/plain": [
       "   Error_cv_lmm  Error_cv_lmm_c  Error_cv_lmm_c_r  Error_cv_lmm_c_s  \\\n",
       "0      0.645153        0.675604          1.174700          0.601239   \n",
       "1      0.617362        0.638520          1.112314          0.578515   \n",
       "2      0.654335        0.696450          1.224464          0.630593   \n",
       "3      0.643688        0.663144          1.066937          0.622475   \n",
       "4      0.644600        0.656558          1.010270          0.625911   \n",
       "\n",
       "   Error_te_lmm  \n",
       "0      0.694969  \n",
       "1      0.667656  \n",
       "2      0.631622  \n",
       "3      0.547315  \n",
       "4      0.661486  "
      ]
     },
     "execution_count": 59,
     "metadata": {},
     "output_type": "execute_result"
    }
   ],
   "source": [
    "dir = '../../simulation_output/frequentist_CVc/using_fastlmm/10_fixed_snps'\n",
    "lmm_cv_file = 'CV_errors_lmm.csv'\n",
    "temp= os.path.join(dir, lmm_cv_file)\n",
    "lmm_cv = pd.read_csv(temp)\n",
    "lmm_cv.head()"
   ]
  },
  {
   "cell_type": "code",
   "execution_count": 87,
   "metadata": {},
   "outputs": [
    {
     "data": {
      "image/png": "[encoded data removed]",
      "text/plain": [
       "<Figure size 360x576 with 1 Axes>"
      ]
     },
     "metadata": {
      "needs_background": "light"
     },
     "output_type": "display_data"
    }
   ],
   "source": [
    "fig, ax = plt.subplots()\n",
    "temp_column = ['Error_cv_lmm', 'Error_cv_lmm_c', 'Error_te_lmm']\n",
    "df_lmm = lmm_cv[temp_column]\n",
    "df_melted = df_lmm.melt()\n",
    "\n",
    "# Create the boxplot\n",
    "plt.close('all')\n",
    "fig, ax = plt.subplots(figsize=(5, 8))\n",
    "\n",
    "sns.boxplot(x='variable', y='value', data=df_melted, showmeans=True, \n",
    "            notch=True, showcaps=False,\n",
    "            meanprops={\"marker\":\"o\",\n",
    "                       \"markerfacecolor\":\"white\", \n",
    "                       \"markeredgecolor\":\"black\",\n",
    "                       \"markersize\":\"10\"},\n",
    "                       ax = ax)\n",
    "plt.ylabel('Value', size=14)\n",
    "plt.xlabel('Variable', size=14)\n",
    "plt.title('Boxplot with Mean Indicators', size=18)\n",
    "plt.show()\n"
   ]
  },
  {
   "cell_type": "code",
   "execution_count": 34,
   "metadata": {},
   "outputs": [
    {
     "data": {
      "image/png": "[encoded data removed]",
      "text/plain": [
       "<Figure size 432x288 with 1 Axes>"
      ]
     },
     "metadata": {
      "needs_background": "light"
     },
     "output_type": "display_data"
    }
   ],
   "source": [
    "# Create some data\n",
    "data = [np.random.normal(size=100) for _ in range(4)]\n",
    "\n",
    "# Create the boxplot\n",
    "bp = plt.boxplot(lmm_cv_new, patch_artist=True, notch=True, vert=1)\n",
    "\n",
    "colors = ['pink', 'lightblue', 'lightgreen', 'tan']\n",
    "for patch, color in zip(bp['boxes'], colors):\n",
    "    patch.set_facecolor(color)\n",
    "\n",
    "# Calculate means and plot them\n",
    "means = [np.mean(lmm_cv_new.iloc[:,i]) for i in range(lmm_cv_new.shape[1])]\n",
    "mean_line = plt.scatter(range(1, len(means) + 1), means, color='red', zorder=2)\n",
    "\n",
    "# Add legend for mean\n",
    "plt.legend([mean_line], ['Mean'])\n",
    "\n",
    "plt.show()"
   ]
  },
  {
   "cell_type": "code",
   "execution_count": 35,
   "metadata": {},
   "outputs": [
    {
     "name": "stdout",
     "output_type": "stream",
     "text": [
      "True\n"
     ]
    },
    {
     "data": {
      "text/html": [
       "<div>\n",
       "<style scoped>\n",
       "    .dataframe tbody tr th:only-of-type {\n",
       "        vertical-align: middle;\n",
       "    }\n",
       "\n",
       "    .dataframe tbody tr th {\n",
       "        vertical-align: top;\n",
       "    }\n",
       "\n",
       "    .dataframe thead th {\n",
       "        text-align: right;\n",
       "    }\n",
       "</style>\n",
       "<table border=\"1\" class=\"dataframe\">\n",
       "  <thead>\n",
       "    <tr style=\"text-align: right;\">\n",
       "      <th></th>\n",
       "      <th>Error_cv_wls</th>\n",
       "      <th>Error_cv_wls_c</th>\n",
       "      <th>Error_cv_wls_c_r</th>\n",
       "      <th>Error_cv_wls_c_s</th>\n",
       "      <th>Error_te_wls</th>\n",
       "    </tr>\n",
       "  </thead>\n",
       "  <tbody>\n",
       "    <tr>\n",
       "      <th>0</th>\n",
       "      <td>0.627276</td>\n",
       "      <td>0.627276</td>\n",
       "      <td>0.627276</td>\n",
       "      <td>0.627276</td>\n",
       "      <td>0.673423</td>\n",
       "    </tr>\n",
       "    <tr>\n",
       "      <th>1</th>\n",
       "      <td>0.671499</td>\n",
       "      <td>0.675116</td>\n",
       "      <td>0.712636</td>\n",
       "      <td>0.670762</td>\n",
       "      <td>0.758926</td>\n",
       "    </tr>\n",
       "    <tr>\n",
       "      <th>2</th>\n",
       "      <td>0.693916</td>\n",
       "      <td>0.700609</td>\n",
       "      <td>0.761900</td>\n",
       "      <td>0.697914</td>\n",
       "      <td>0.759519</td>\n",
       "    </tr>\n",
       "    <tr>\n",
       "      <th>3</th>\n",
       "      <td>0.593358</td>\n",
       "      <td>0.593358</td>\n",
       "      <td>0.593358</td>\n",
       "      <td>0.593358</td>\n",
       "      <td>0.584290</td>\n",
       "    </tr>\n",
       "    <tr>\n",
       "      <th>4</th>\n",
       "      <td>0.615162</td>\n",
       "      <td>0.617865</td>\n",
       "      <td>0.639531</td>\n",
       "      <td>0.615480</td>\n",
       "      <td>0.565581</td>\n",
       "    </tr>\n",
       "  </tbody>\n",
       "</table>\n",
       "</div>"
      ],
      "text/plain": [
       "   Error_cv_wls  Error_cv_wls_c  Error_cv_wls_c_r  Error_cv_wls_c_s  \\\n",
       "0      0.627276        0.627276          0.627276          0.627276   \n",
       "1      0.671499        0.675116          0.712636          0.670762   \n",
       "2      0.693916        0.700609          0.761900          0.697914   \n",
       "3      0.593358        0.593358          0.593358          0.593358   \n",
       "4      0.615162        0.617865          0.639531          0.615480   \n",
       "\n",
       "   Error_te_wls  \n",
       "0      0.673423  \n",
       "1      0.758926  \n",
       "2      0.759519  \n",
       "3      0.584290  \n",
       "4      0.565581  "
      ]
     },
     "execution_count": 35,
     "metadata": {},
     "output_type": "execute_result"
    }
   ],
   "source": [
    "dir = '../../simulation_output/frequentist_CVc/100_fixed_snps'\n",
    "print(os.path.exists(dir))\n",
    "gls_cv_file = 'CV_errors_wls.csv'\n",
    "temp= os.path.join(dir, gls_cv_file)\n",
    "gls_cv = pd.read_csv(temp)\n",
    "gls_cv.head()"
   ]
  },
  {
   "cell_type": "code",
   "execution_count": 38,
   "metadata": {},
   "outputs": [
    {
     "data": {
      "image/png": "[encoded data removed]",
      "text/plain": [
       "<Figure size 432x288 with 1 Axes>"
      ]
     },
     "metadata": {
      "needs_background": "light"
     },
     "output_type": "display_data"
    }
   ],
   "source": [
    "fig, ax = plt.subplots()\n",
    "temp_column = ['Error_cv_wls', 'Error_cv_wls_c', 'Error_te_wls']\n",
    "gls_cv_new = gls_cv[temp_column]\n",
    "\n",
    "# Create the boxplot\n",
    "bp = plt.boxplot(lmm_cv_new, patch_artist=True, notch=True, vert=1)\n",
    "\n",
    "colors = ['pink', 'lightblue', 'lightgreen', 'tan']\n",
    "for patch, color in zip(bp['boxes'], colors):\n",
    "    patch.set_facecolor(color)\n",
    "\n",
    "# Calculate means and plot them\n",
    "means = [np.mean(lmm_cv_new.iloc[:,i]) for i in range(lmm_cv_new.shape[1])]\n",
    "mean_line = plt.scatter(range(1, len(means) + 1), means, color='red', zorder=2)\n",
    "\n",
    "# Add legend for mean\n",
    "plt.legend([mean_line], ['Mean'])\n",
    "\n",
    "plt.show()"
   ]
  },
  {
   "cell_type": "code",
   "execution_count": 83,
   "metadata": {},
   "outputs": [
    {
     "name": "stdout",
     "output_type": "stream",
     "text": [
      "True\n"
     ]
    }
   ],
   "source": [
    "dir = '../../simulation_output/frequentist_CVc/100_fixed_snps'\n",
    "print(os.path.exists(dir))\n",
    "ols_cv_file = 'CV_errors_ols.csv'\n",
    "temp= os.path.join(dir, ols_cv_file)\n",
    "ols_cv = pd.read_csv(temp)\n",
    "ols_cv.head()\n",
    "temp_column = ['Error_cv_ols', 'Error_cv_ols_c', 'Error_te_ols']\n",
    "ols_cv_new = ols_cv[temp_column]"
   ]
  },
  {
   "cell_type": "code",
   "execution_count": 85,
   "metadata": {},
   "outputs": [
    {
     "data": {
      "image/png": "[encoded data removed]",
      "text/plain": [
       "<Figure size 432x288 with 1 Axes>"
      ]
     },
     "metadata": {
      "needs_background": "light"
     },
     "output_type": "display_data"
    }
   ],
   "source": [
    "fig, ax = plt.subplots()\n",
    "\n",
    "# Create the boxplot\n",
    "bp = plt.boxplot(ols_cv_new, patch_artist=True, notch=True, vert=1)\n",
    "\n",
    "colors = ['pink', 'lightblue', 'lightgreen', 'tan']\n",
    "for patch, color in zip(bp['boxes'], colors):\n",
    "    patch.set_facecolor(color)\n",
    "\n",
    "# Calculate means and plot them\n",
    "means = [np.mean(ols_cv_new.iloc[:,i]) for i in range(ols_cv_new.shape[1])]\n",
    "mean_line = plt.scatter(range(1, len(means) + 1), means, color='red', zorder=2)\n",
    "\n",
    "# Add legend for mean\n",
    "plt.legend([mean_line], ['Mean'])\n",
    "\n",
    "plt.show()"
   ]
  },
  {
   "cell_type": "code",
   "execution_count": 49,
   "metadata": {},
   "outputs": [
    {
     "name": "stdout",
     "output_type": "stream",
     "text": [
      "True\n"
     ]
    },
    {
     "data": {
      "text/html": [
       "<div>\n",
       "<style scoped>\n",
       "    .dataframe tbody tr th:only-of-type {\n",
       "        vertical-align: middle;\n",
       "    }\n",
       "\n",
       "    .dataframe tbody tr th {\n",
       "        vertical-align: top;\n",
       "    }\n",
       "\n",
       "    .dataframe thead th {\n",
       "        text-align: right;\n",
       "    }\n",
       "</style>\n",
       "<table border=\"1\" class=\"dataframe\">\n",
       "  <thead>\n",
       "    <tr style=\"text-align: right;\">\n",
       "      <th></th>\n",
       "      <th>Error_cv_ridge</th>\n",
       "      <th>Error_cv_ridge_c</th>\n",
       "      <th>Error_cv_ridge_c_r</th>\n",
       "      <th>Error_cv_ridge_c_s</th>\n",
       "      <th>Error_te_ridge</th>\n",
       "    </tr>\n",
       "  </thead>\n",
       "  <tbody>\n",
       "    <tr>\n",
       "      <th>0</th>\n",
       "      <td>0.620598</td>\n",
       "      <td>0.620598</td>\n",
       "      <td>0.620598</td>\n",
       "      <td>0.620598</td>\n",
       "      <td>0.681791</td>\n",
       "    </tr>\n",
       "    <tr>\n",
       "      <th>1</th>\n",
       "      <td>0.613078</td>\n",
       "      <td>0.612609</td>\n",
       "      <td>0.676496</td>\n",
       "      <td>0.614089</td>\n",
       "      <td>0.668118</td>\n",
       "    </tr>\n",
       "    <tr>\n",
       "      <th>2</th>\n",
       "      <td>0.643549</td>\n",
       "      <td>0.642201</td>\n",
       "      <td>0.761347</td>\n",
       "      <td>0.649464</td>\n",
       "      <td>0.710867</td>\n",
       "    </tr>\n",
       "    <tr>\n",
       "      <th>3</th>\n",
       "      <td>0.590918</td>\n",
       "      <td>0.590918</td>\n",
       "      <td>0.590918</td>\n",
       "      <td>0.590918</td>\n",
       "      <td>0.590112</td>\n",
       "    </tr>\n",
       "    <tr>\n",
       "      <th>4</th>\n",
       "      <td>0.603273</td>\n",
       "      <td>0.604575</td>\n",
       "      <td>0.641399</td>\n",
       "      <td>0.605022</td>\n",
       "      <td>0.554061</td>\n",
       "    </tr>\n",
       "  </tbody>\n",
       "</table>\n",
       "</div>"
      ],
      "text/plain": [
       "   Error_cv_ridge  Error_cv_ridge_c  Error_cv_ridge_c_r  Error_cv_ridge_c_s  \\\n",
       "0        0.620598          0.620598            0.620598            0.620598   \n",
       "1        0.613078          0.612609            0.676496            0.614089   \n",
       "2        0.643549          0.642201            0.761347            0.649464   \n",
       "3        0.590918          0.590918            0.590918            0.590918   \n",
       "4        0.603273          0.604575            0.641399            0.605022   \n",
       "\n",
       "   Error_te_ridge  \n",
       "0        0.681791  \n",
       "1        0.668118  \n",
       "2        0.710867  \n",
       "3        0.590112  \n",
       "4        0.554061  "
      ]
     },
     "execution_count": 49,
     "metadata": {},
     "output_type": "execute_result"
    }
   ],
   "source": [
    "dir = '../../simulation_output/frequentist_CVc/100_fixed_snps'\n",
    "print(os.path.exists(dir))\n",
    "ridge_cv_file = 'CV_errors_ridge.csv'\n",
    "temp= os.path.join(dir, ridge_cv_file)\n",
    "ridge_cv = pd.read_csv(temp)\n",
    "ridge_cv.head()"
   ]
  },
  {
   "cell_type": "code",
   "execution_count": 51,
   "metadata": {},
   "outputs": [],
   "source": [
    "temp_column = ['Error_cv_ridge', 'Error_cv_ridge_c', 'Error_te_ridge']\n",
    "ridge_cv_new = ridge_cv[temp_column]"
   ]
  },
  {
   "cell_type": "code",
   "execution_count": 52,
   "metadata": {},
   "outputs": [
    {
     "data": {
      "image/png": "[encoded data removed]",
      "text/plain": [
       "<Figure size 432x288 with 1 Axes>"
      ]
     },
     "metadata": {
      "needs_background": "light"
     },
     "output_type": "display_data"
    }
   ],
   "source": [
    "fig, ax = plt.subplots()\n",
    "\n",
    "# Create the boxplot\n",
    "bp = plt.boxplot(ridge_cv_new, patch_artist=True, notch=True, vert=1)\n",
    "\n",
    "colors = ['pink', 'lightblue', 'lightgreen', 'tan']\n",
    "for patch, color in zip(bp['boxes'], colors):\n",
    "    patch.set_facecolor(color)\n",
    "\n",
    "# Calculate means and plot them\n",
    "means = [np.mean(ridge_cv_new.iloc[:,i]) for i in range(lmm_cv_new.shape[1])]\n",
    "mean_line = plt.scatter(range(1, len(means) + 1), means, color='red', zorder=2)\n",
    "\n",
    "# Add legend for mean\n",
    "plt.legend([mean_line], ['Mean'])\n",
    "\n",
    "plt.show()"
   ]
  },
  {
   "cell_type": "code",
   "execution_count": 92,
   "metadata": {},
   "outputs": [
    {
     "name": "stderr",
     "output_type": "stream",
     "text": [
      "C:\\Users\\Archibald\\AppData\\Local\\Temp\\ipykernel_68824\\749274746.py:1: SettingWithCopyWarning: \n",
      "A value is trying to be set on a copy of a slice from a DataFrame.\n",
      "Try using .loc[row_indexer,col_indexer] = value instead\n",
      "\n",
      "See the caveats in the documentation: https://pandas.pydata.org/pandas-docs/stable/user_guide/indexing.html#returning-a-view-versus-a-copy\n",
      "  df_lmm['Group'] = 'lmm'\n",
      "C:\\Users\\Archibald\\AppData\\Local\\Temp\\ipykernel_68824\\749274746.py:2: SettingWithCopyWarning: \n",
      "A value is trying to be set on a copy of a slice from a DataFrame.\n",
      "Try using .loc[row_indexer,col_indexer] = value instead\n",
      "\n",
      "See the caveats in the documentation: https://pandas.pydata.org/pandas-docs/stable/user_guide/indexing.html#returning-a-view-versus-a-copy\n",
      "  ridge_cv_new['Group'] = 'ridge'\n",
      "C:\\Users\\Archibald\\AppData\\Local\\Temp\\ipykernel_68824\\749274746.py:3: SettingWithCopyWarning: \n",
      "A value is trying to be set on a copy of a slice from a DataFrame.\n",
      "Try using .loc[row_indexer,col_indexer] = value instead\n",
      "\n",
      "See the caveats in the documentation: https://pandas.pydata.org/pandas-docs/stable/user_guide/indexing.html#returning-a-view-versus-a-copy\n",
      "  ols_cv_new['Group'] ='ols'\n",
      "C:\\Users\\Archibald\\AppData\\Local\\Temp\\ipykernel_68824\\749274746.py:4: SettingWithCopyWarning: \n",
      "A value is trying to be set on a copy of a slice from a DataFrame.\n",
      "Try using .loc[row_indexer,col_indexer] = value instead\n",
      "\n",
      "See the caveats in the documentation: https://pandas.pydata.org/pandas-docs/stable/user_guide/indexing.html#returning-a-view-versus-a-copy\n",
      "  gls_cv_new['Group'] = 'gls'\n"
     ]
    }
   ],
   "source": [
    "df_lmm['Group'] = 'lmm'\n",
    "ridge_cv_new['Group'] = 'ridge'\n",
    "ols_cv_new['Group'] ='ols'\n",
    "gls_cv_new['Group'] = 'gls'"
   ]
  },
  {
   "cell_type": "code",
   "execution_count": 112,
   "metadata": {},
   "outputs": [
    {
     "data": {
      "text/html": [
       "<div>\n",
       "<style scoped>\n",
       "    .dataframe tbody tr th:only-of-type {\n",
       "        vertical-align: middle;\n",
       "    }\n",
       "\n",
       "    .dataframe tbody tr th {\n",
       "        vertical-align: top;\n",
       "    }\n",
       "\n",
       "    .dataframe thead th {\n",
       "        text-align: right;\n",
       "    }\n",
       "</style>\n",
       "<table border=\"1\" class=\"dataframe\">\n",
       "  <thead>\n",
       "    <tr style=\"text-align: right;\">\n",
       "      <th></th>\n",
       "      <th>Group</th>\n",
       "      <th>variable</th>\n",
       "      <th>value</th>\n",
       "    </tr>\n",
       "  </thead>\n",
       "  <tbody>\n",
       "    <tr>\n",
       "      <th>0</th>\n",
       "      <td>lmm</td>\n",
       "      <td>Error_cv_lmm</td>\n",
       "      <td>0.645153</td>\n",
       "    </tr>\n",
       "    <tr>\n",
       "      <th>1</th>\n",
       "      <td>lmm</td>\n",
       "      <td>Error_cv_lmm</td>\n",
       "      <td>0.617362</td>\n",
       "    </tr>\n",
       "    <tr>\n",
       "      <th>2</th>\n",
       "      <td>lmm</td>\n",
       "      <td>Error_cv_lmm</td>\n",
       "      <td>0.654335</td>\n",
       "    </tr>\n",
       "    <tr>\n",
       "      <th>3</th>\n",
       "      <td>lmm</td>\n",
       "      <td>Error_cv_lmm</td>\n",
       "      <td>0.643688</td>\n",
       "    </tr>\n",
       "    <tr>\n",
       "      <th>4</th>\n",
       "      <td>lmm</td>\n",
       "      <td>Error_cv_lmm</td>\n",
       "      <td>0.644600</td>\n",
       "    </tr>\n",
       "    <tr>\n",
       "      <th>...</th>\n",
       "      <td>...</td>\n",
       "      <td>...</td>\n",
       "      <td>...</td>\n",
       "    </tr>\n",
       "    <tr>\n",
       "      <th>27595</th>\n",
       "      <td>ols</td>\n",
       "      <td>Error_te_ols</td>\n",
       "      <td>0.638232</td>\n",
       "    </tr>\n",
       "    <tr>\n",
       "      <th>27596</th>\n",
       "      <td>ols</td>\n",
       "      <td>Error_te_ols</td>\n",
       "      <td>0.649643</td>\n",
       "    </tr>\n",
       "    <tr>\n",
       "      <th>27597</th>\n",
       "      <td>ols</td>\n",
       "      <td>Error_te_ols</td>\n",
       "      <td>0.655496</td>\n",
       "    </tr>\n",
       "    <tr>\n",
       "      <th>27598</th>\n",
       "      <td>ols</td>\n",
       "      <td>Error_te_ols</td>\n",
       "      <td>0.573066</td>\n",
       "    </tr>\n",
       "    <tr>\n",
       "      <th>27599</th>\n",
       "      <td>ols</td>\n",
       "      <td>Error_te_ols</td>\n",
       "      <td>0.605985</td>\n",
       "    </tr>\n",
       "  </tbody>\n",
       "</table>\n",
       "<p>27600 rows × 3 columns</p>\n",
       "</div>"
      ],
      "text/plain": [
       "      Group      variable     value\n",
       "0       lmm  Error_cv_lmm  0.645153\n",
       "1       lmm  Error_cv_lmm  0.617362\n",
       "2       lmm  Error_cv_lmm  0.654335\n",
       "3       lmm  Error_cv_lmm  0.643688\n",
       "4       lmm  Error_cv_lmm  0.644600\n",
       "...     ...           ...       ...\n",
       "27595   ols  Error_te_ols  0.638232\n",
       "27596   ols  Error_te_ols  0.649643\n",
       "27597   ols  Error_te_ols  0.655496\n",
       "27598   ols  Error_te_ols  0.573066\n",
       "27599   ols  Error_te_ols  0.605985\n",
       "\n",
       "[27600 rows x 3 columns]"
      ]
     },
     "execution_count": 112,
     "metadata": {},
     "output_type": "execute_result"
    }
   ],
   "source": [
    "\n",
    "# Assume we have two dataframes df1 and df2 with similar columns\n",
    "\n",
    "\n",
    "df = pd.concat([df_lmm, ridge_cv_new, gls_cv_new, ols_cv_new])\n",
    "melted_df = df.melt(id_vars='Group')\n",
    "melted_df"
   ]
  },
  {
   "cell_type": "code",
   "execution_count": 113,
   "metadata": {},
   "outputs": [
    {
     "data": {
      "image/png": "[encoded data removed]",
      "text/plain": [
       "<Figure size 864x576 with 1 Axes>"
      ]
     },
     "metadata": {
      "needs_background": "light"
     },
     "output_type": "display_data"
    }
   ],
   "source": [
    "# Create the boxplot\n",
    "plt.close('all')\n",
    "fig, ax = plt.subplots(figsize=(12, 8))\n",
    "\n",
    "sns.boxplot(x='variable', y='value', data=melted_df, showmeans=True, \n",
    "            notch=True, showcaps=False,\n",
    "            hue=\"Group\",\n",
    "            meanprops={\"marker\":\"o\",\n",
    "                       \"markerfacecolor\":\"white\", \n",
    "                       \"markeredgecolor\":\"black\",\n",
    "                       \"markersize\":\"10\"},\n",
    "                       ax = ax)\n",
    "plt.ylabel('Value', size=14)\n",
    "plt.xlabel('Variable', size=14)\n",
    "plt.title('Boxplot with Mean Indicators', size=18)\n",
    "for i in range(3):\n",
    "    plt.vlines((i+1)*3-0.5, np.min(melted_df['value']), np.max(melted_df['value']), colors='gray', linestyles='dashed')\n",
    "\n",
    "plt.show()"
   ]
  },
  {
   "cell_type": "code",
   "execution_count": 118,
   "metadata": {},
   "outputs": [
    {
     "data": {
      "image/png": "[encoded data removed]",
      "text/plain": [
       "<Figure size 720x576 with 1 Axes>"
      ]
     },
     "metadata": {
      "needs_background": "light"
     },
     "output_type": "display_data"
    }
   ],
   "source": [
    "\n",
    "# Suppose df1 and df2 are your dataframes\n",
    "df1 = pd.DataFrame({\n",
    "    'a': [1, 2, 3],\n",
    "    'b': [2, 3, 4],\n",
    "    'c': [3, 4, 5]\n",
    "})\n",
    "\n",
    "df2 = pd.DataFrame({\n",
    "    'a': [2, 3, 4],\n",
    "    'b': [3, 4, 5],\n",
    "    'c': [4, 5, 6]\n",
    "})\n",
    "\n",
    "# Add a column to indicate the source dataframe\n",
    "df1['Group'] = 'df1'\n",
    "df2['Group'] = 'df2'\n",
    "\n",
    "# Combine dataframes\n",
    "df = pd.concat([df1, df2])\n",
    "\n",
    "# Melt the dataframe\n",
    "melted_df = df.melt(id_vars='Group')\n",
    "\n",
    "plt.figure(figsize=(10, 8))\n",
    "\n",
    "# Use the new Hue column for coloring\n",
    "sns.boxplot(x=\"variable\", y=\"value\", hue=\"Group\", data=melted_df)\n",
    "\n",
    "plt.show()"
   ]
  },
  {
   "cell_type": "code",
   "execution_count": 120,
   "metadata": {},
   "outputs": [
    {
     "data": {
      "image/png": "[encoded data removed]",
      "text/plain": [
       "<Figure size 720x576 with 1 Axes>"
      ]
     },
     "metadata": {
      "needs_background": "light"
     },
     "output_type": "display_data"
    }
   ],
   "source": [
    "import seaborn as sns\n",
    "import pandas as pd\n",
    "import matplotlib.pyplot as plt\n",
    "\n",
    "# Suppose df1 and df2 are your dataframes\n",
    "df1 = pd.DataFrame({\n",
    "    'a': [1, 2, 3],\n",
    "    'b': [2, 3, 4],\n",
    "    'c': [3, 4, 5]\n",
    "})\n",
    "\n",
    "df2 = pd.DataFrame({\n",
    "    'a': [2, 3, 4],\n",
    "    'b': [3, 4, 5],\n",
    "    'c': [4, 5, 6]\n",
    "})\n",
    "\n",
    "# Add a column to indicate the source dataframe\n",
    "df1['Group'] = 'df1'\n",
    "df2['Group'] = 'df2'\n",
    "\n",
    "# Combine dataframes\n",
    "df = pd.concat([df1, df2])\n",
    "\n",
    "# Melt the dataframe\n",
    "melted_df = df.melt(id_vars='Group')\n",
    "\n",
    "# Create a new column that combines the Group and variable columns\n",
    "melted_df['Hue'] = melted_df['Group'] + \"_\" + melted_df['variable']\n",
    "\n",
    "plt.figure(figsize=(10, 8))\n",
    "\n",
    "# Use the new Hue column for coloring\n",
    "sns.boxplot(x=\"variable\", y=\"value\", hue=\"Group\", data=melted_df)\n",
    "\n",
    "plt.show()\n"
   ]
  },
  {
   "cell_type": "code",
   "execution_count": 117,
   "metadata": {},
   "outputs": [
    {
     "data": {
      "text/plain": [
       "<AxesSubplot:xlabel='variable', ylabel='value'>"
      ]
     },
     "execution_count": 117,
     "metadata": {},
     "output_type": "execute_result"
    },
    {
     "data": {
      "image/png": "[encoded data removed]",
      "text/plain": [
       "<Figure size 720x576 with 1 Axes>"
      ]
     },
     "metadata": {
      "needs_background": "light"
     },
     "output_type": "display_data"
    }
   ],
   "source": [
    "plt.figure(figsize=(10, 8))\n",
    "sns.boxplot(x=\"variable\", y=\"value\", hue=\"variable\", data=melted_df)"
   ]
  },
  {
   "cell_type": "code",
   "execution_count": 110,
   "metadata": {},
   "outputs": [
    {
     "data": {
      "text/html": [
       "<div>\n",
       "<style scoped>\n",
       "    .dataframe tbody tr th:only-of-type {\n",
       "        vertical-align: middle;\n",
       "    }\n",
       "\n",
       "    .dataframe tbody tr th {\n",
       "        vertical-align: top;\n",
       "    }\n",
       "\n",
       "    .dataframe thead th {\n",
       "        text-align: right;\n",
       "    }\n",
       "</style>\n",
       "<table border=\"1\" class=\"dataframe\">\n",
       "  <thead>\n",
       "    <tr style=\"text-align: right;\">\n",
       "      <th></th>\n",
       "      <th>variable</th>\n",
       "      <th>value</th>\n",
       "    </tr>\n",
       "  </thead>\n",
       "  <tbody>\n",
       "    <tr>\n",
       "      <th>0</th>\n",
       "      <td>Error_cv_lmm</td>\n",
       "      <td>0.645153</td>\n",
       "    </tr>\n",
       "    <tr>\n",
       "      <th>1</th>\n",
       "      <td>Error_cv_lmm</td>\n",
       "      <td>0.617362</td>\n",
       "    </tr>\n",
       "    <tr>\n",
       "      <th>2</th>\n",
       "      <td>Error_cv_lmm</td>\n",
       "      <td>0.654335</td>\n",
       "    </tr>\n",
       "    <tr>\n",
       "      <th>3</th>\n",
       "      <td>Error_cv_lmm</td>\n",
       "      <td>0.643688</td>\n",
       "    </tr>\n",
       "    <tr>\n",
       "      <th>4</th>\n",
       "      <td>Error_cv_lmm</td>\n",
       "      <td>0.644600</td>\n",
       "    </tr>\n",
       "    <tr>\n",
       "      <th>...</th>\n",
       "      <td>...</td>\n",
       "      <td>...</td>\n",
       "    </tr>\n",
       "    <tr>\n",
       "      <th>5995</th>\n",
       "      <td>Error_te_lmm</td>\n",
       "      <td>0.569353</td>\n",
       "    </tr>\n",
       "    <tr>\n",
       "      <th>5996</th>\n",
       "      <td>Error_te_lmm</td>\n",
       "      <td>0.609963</td>\n",
       "    </tr>\n",
       "    <tr>\n",
       "      <th>5997</th>\n",
       "      <td>Error_te_lmm</td>\n",
       "      <td>0.620410</td>\n",
       "    </tr>\n",
       "    <tr>\n",
       "      <th>5998</th>\n",
       "      <td>Error_te_lmm</td>\n",
       "      <td>0.649954</td>\n",
       "    </tr>\n",
       "    <tr>\n",
       "      <th>5999</th>\n",
       "      <td>Error_te_lmm</td>\n",
       "      <td>0.557101</td>\n",
       "    </tr>\n",
       "  </tbody>\n",
       "</table>\n",
       "<p>6000 rows × 2 columns</p>\n",
       "</div>"
      ],
      "text/plain": [
       "          variable     value\n",
       "0     Error_cv_lmm  0.645153\n",
       "1     Error_cv_lmm  0.617362\n",
       "2     Error_cv_lmm  0.654335\n",
       "3     Error_cv_lmm  0.643688\n",
       "4     Error_cv_lmm  0.644600\n",
       "...            ...       ...\n",
       "5995  Error_te_lmm  0.569353\n",
       "5996  Error_te_lmm  0.609963\n",
       "5997  Error_te_lmm  0.620410\n",
       "5998  Error_te_lmm  0.649954\n",
       "5999  Error_te_lmm  0.557101\n",
       "\n",
       "[6000 rows x 2 columns]"
      ]
     },
     "execution_count": 110,
     "metadata": {},
     "output_type": "execute_result"
    }
   ],
   "source": [
    "df_melted"
   ]
  }
 ],
 "metadata": {
  "kernelspec": {
   "display_name": "base",
   "language": "python",
   "name": "python3"
  },
  "language_info": {
   "codemirror_mode": {
    "name": "ipython",
    "version": 3
   },
   "file_extension": ".py",
   "mimetype": "text/x-python",
   "name": "python",
   "nbconvert_exporter": "python",
   "pygments_lexer": "ipython3",
   "version": "3.9.12"
  },
  "orig_nbformat": 4
 },
 "nbformat": 4,
 "nbformat_minor": 2
}
