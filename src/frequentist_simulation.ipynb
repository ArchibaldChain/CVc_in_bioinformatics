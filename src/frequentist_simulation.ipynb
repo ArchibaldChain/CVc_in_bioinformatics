{
 "cells": [
  {
   "cell_type": "code",
   "execution_count": 1,
   "metadata": {},
   "outputs": [
    {
     "name": "stdout",
     "output_type": "stream",
     "text": [
      "e:\\OneDrive\\Programming\\Python\\CVc_in_bio_informatics\\src\n"
     ]
    }
   ],
   "source": [
    "import pandas as pd\n",
    "import numpy as np\n",
    "from sklearn.model_selection import train_test_split\n",
    "import os, sys\n",
    "\n",
    "sys.path.append('./src')\n",
    "from utils import *\n",
    "from FAST_LMM.FaST_LMM import FASTLMM\n",
    "from bslmm_simulation import gemma_operator as gemma\n",
    "from arguments import get_args\n",
    "\n",
    "from frequentist_simulation.H_functions import *\n",
    "from frequentist_simulation.simulation  import *"
   ]
  },
  {
   "cell_type": "code",
   "execution_count": 2,
   "metadata": {},
   "outputs": [],
   "source": [
    "%load_ext autoreload\n",
    "%autoreload 2"
   ]
  },
  {
   "cell_type": "code",
   "execution_count": 3,
   "metadata": {},
   "outputs": [],
   "source": [
    "SNP_file='../data/SNP_in_200GENE_chr1.csv'\n",
    "# save_path='simulation_output'\n",
    "num_fixed_snps=100\n",
    "simulation_times=100\n",
    "num_large_effect=10\n",
    "large_effect=400\n",
    "small_effect=2\n",
    "n_folds=10"
   ]
  },
  {
   "cell_type": "code",
   "execution_count": 4,
   "metadata": {},
   "outputs": [],
   "source": [
    "SNPs = load(SNP_file)"
   ]
  },
  {
   "cell_type": "code",
   "execution_count": 5,
   "metadata": {},
   "outputs": [
    {
     "data": {
      "text/plain": [
       "(2548, 10000)"
      ]
     },
     "execution_count": 5,
     "metadata": {},
     "output_type": "execute_result"
    }
   ],
   "source": [
    "SNPs.shape"
   ]
  },
  {
   "cell_type": "code",
   "execution_count": 6,
   "metadata": {},
   "outputs": [],
   "source": [
    "y = phenotype_simulator(SNPs, num_large_effect, large_effect,\n",
    "                        small_effect)"
   ]
  },
  {
   "cell_type": "code",
   "execution_count": 6,
   "metadata": {},
   "outputs": [
    {
     "name": "stdout",
     "output_type": "stream",
     "text": [
      "First 5 fold indices : [(0, 204), (204, 408), (408, 612), (612, 816), (816, 1020)]\n",
      "First 5 fold indices : [(0, 204), (204, 408), (408, 612), (612, 816), (816, 1020)]\n",
      "First 5 fold indices : [(0, 204), (204, 408), (408, 612), (612, 816), (816, 1020)]\n",
      "First 5 fold indices : [(0, 204), (204, 408), (408, 612), (612, 816), (816, 1020)]\n",
      "The CV error of   lmm is 6807481190404568532896624672768.0000, wls is 6807481190404568532896624672768.0000, and ols is 945192553989132496061419487232.0000, and ridge is 0.7657\n",
      "The CVc error of  lmm is 6807481190404568532896624672768.0000, wls is 6807481190404568532896624672768.0000, and ols is 945192553989132496061419487232.0000, and ridge is 33241206051037.0938\n",
      "The CVc random of  lmm is 6807481190404568532896624672768.0000, wls is 6807481190404568532896624672768.0000, and ols is 945192553989132496061419487232.0000, and ridge is 33241206051037.6328\n",
      "The CVc sample of  lmm is 6807481190404568532896624672768.0000, wls is 6807481190404568532896624672768.0000, and ols is 945192553989132496061419487232.0000, and ridge is 33241206051037.4922\n",
      "The test error of lmm is 0.6036, wls is 0.7750, and ols is 0.8429, and ridge is 0.7338\n"
     ]
    }
   ],
   "source": [
    "num_fixed_snps = 10\n",
    "lmm, wls, ols, ridge = cross_validation_correction(SNPs,\n",
    "                                                    y,\n",
    "                                                    num_fixed_snps,\n",
    "                                                    n_folds=n_folds)"
   ]
  },
  {
   "cell_type": "code",
   "execution_count": null,
   "metadata": {},
   "outputs": [],
   "source": [
    "lmm, wls, ols, ridge = cross_validation_correction(SNPs,\n",
    "                                                    y,\n",
    "                                                    num_fixed_snps,\n",
    "                                                    n_folds=n_folds)"
   ]
  },
  {
   "cell_type": "code",
   "execution_count": 9,
   "metadata": {},
   "outputs": [
    {
     "name": "stdout",
     "output_type": "stream",
     "text": [
      "--------- 10 -------------\n",
      "------------- FAST-LMM------------------\n",
      "LowRank is set as True, not using REML\n",
      "Rank of W is 2038, shape of W is (2038, 10000).\n",
      "--- 26.332034587860107 seconds for SVD calculation ---\n",
      "Optimization Results:\n",
      "Delta is calculated as:  0.33623708441217076\n",
      "Maximum Likelihood is calculated as:  -2586.022664966705\n",
      "---------------Summary------------------\n",
      "LowRank is set as True, not using REML\n",
      "Heritability h2: 0.7483701894412801\n",
      "Sigma_g2: 1.5777307844786\n",
      "Sigma_e2: 0.5304915989604114\n",
      "------ 0.34758734703063965 seconds ------\n",
      "(1.5777307844786, 0.5304915989604114)\n",
      "First 5 fold indices : [(0, 204), (204, 408), (408, 612), (612, 816), (816, 1020)]\n",
      "First 5 fold indices : [(0, 204), (204, 408), (408, 612), (612, 816), (816, 1020)]\n",
      "First 5 fold indices : [(0, 204), (204, 408), (408, 612), (612, 816), (816, 1020)]\n",
      "First 5 fold indices : [(0, 204), (204, 408), (408, 612), (612, 816), (816, 1020)]\n",
      "The CV error of   lmm is 0.6750, wls is 0.9834, and ols is 0.9374, and ridge is 0.9613\n",
      "The CVc error of  lmm is 0.7136, wls is 1.0181, and ols is 0.9481, and ridge is 0.9720\n",
      "The CVc random of  lmm is 1.2286, wls is 1.1579, and ols is 1.2421, and ridge is 1.7827\n",
      "The CVc sample of  lmm is 0.6281, wls is 1.0123, and ols is 0.9191, and ridge is 1.1301\n",
      "The test error of lmm is 0.6115, wls is 0.9600, and ols is 0.9064, and ridge is 0.9439\n",
      "--------- 20 -------------\n",
      "------------- FAST-LMM------------------\n",
      "LowRank is set as True, not using REML\n",
      "Rank of W is 2038, shape of W is (2038, 10000).\n",
      "--- 26.685067176818848 seconds for SVD calculation ---\n",
      "Optimization Results:\n",
      "Delta is calculated as:  0.3732462257955892\n",
      "Maximum Likelihood is calculated as:  -2553.1107586498797\n",
      "---------------Summary------------------\n",
      "LowRank is set as True, not using REML\n",
      "Heritability h2: 0.7282015280403561\n",
      "Sigma_g2: 1.4040869446598692\n",
      "Sigma_e2: 0.5240701527831565\n",
      "------ 0.5408849716186523 seconds ------\n",
      "(1.4040869446598692, 0.5240701527831565)\n",
      "First 5 fold indices : [(0, 204), (204, 408), (408, 612), (612, 816), (816, 1020)]\n",
      "First 5 fold indices : [(0, 204), (204, 408), (408, 612), (612, 816), (816, 1020)]\n",
      "First 5 fold indices : [(0, 204), (204, 408), (408, 612), (612, 816), (816, 1020)]\n",
      "First 5 fold indices : [(0, 204), (204, 408), (408, 612), (612, 816), (816, 1020)]\n",
      "The CV error of   lmm is 0.6610, wls is 1.0441, and ols is 0.9031, and ridge is 0.9343\n",
      "The CVc error of  lmm is 0.7061, wls is 1.0802, and ols is 0.9187, and ridge is 0.9499\n",
      "The CVc random of  lmm is 1.1544, wls is 1.2165, and ols is 1.1931, and ridge is 1.5703\n",
      "The CVc sample of  lmm is 0.6370, wls is 1.0742, and ols is 0.9009, and ridge is 1.1155\n",
      "The test error of lmm is 0.6980, wls is 1.0791, and ols is 0.9507, and ridge is 0.9747\n",
      "--------- 30 -------------\n",
      "------------- FAST-LMM------------------\n",
      "LowRank is set as True, not using REML\n",
      "Rank of W is 2038, shape of W is (2038, 10000).\n",
      "--- 25.737072229385376 seconds for SVD calculation ---\n",
      "Optimization Results:\n",
      "Delta is calculated as:  0.643964483003811\n",
      "Maximum Likelihood is calculated as:  -2569.351964533556\n",
      "---------------Summary------------------\n",
      "LowRank is set as True, not using REML\n",
      "Heritability h2: 0.6082856474933235\n",
      "Sigma_g2: 0.9062737254103027\n",
      "Sigma_e2: 0.5836080910437834\n",
      "------ 0.9879488945007324 seconds ------\n",
      "(0.9062737254103027, 0.5836080910437834)\n",
      "First 5 fold indices : [(0, 204), (204, 408), (408, 612), (612, 816), (816, 1020)]\n",
      "First 5 fold indices : [(0, 204), (204, 408), (408, 612), (612, 816), (816, 1020)]\n",
      "First 5 fold indices : [(0, 204), (204, 408), (408, 612), (612, 816), (816, 1020)]\n",
      "First 5 fold indices : [(0, 204), (204, 408), (408, 612), (612, 816), (816, 1020)]\n",
      "The CV error of   lmm is 0.6900, wls is 0.9309, and ols is 3876.5736, and ridge is 0.9179\n",
      "The CVc error of  lmm is 0.7059, wls is 0.9491, and ols is 3562.7626, and ridge is -312.8932\n",
      "The CVc random of  lmm is 1.0205, wls is 1.0698, and ols is 3562.9906, and ridge is -312.3757\n",
      "The CVc sample of  lmm is 0.6622, wls is 0.9469, and ols is 3562.7543, and ridge is -312.8126\n",
      "The test error of lmm is 0.6547, wls is 0.9516, and ols is 0.8995, and ridge is 0.9244\n",
      "--------- 40 -------------\n",
      "------------- FAST-LMM------------------\n",
      "LowRank is set as True, not using REML\n",
      "Rank of W is 2038, shape of W is (2038, 10000).\n",
      "--- 23.777771949768066 seconds for SVD calculation ---\n",
      "Optimization Results:\n",
      "Delta is calculated as:  0.42168083092761494\n",
      "Maximum Likelihood is calculated as:  -2545.696529385987\n",
      "---------------Summary------------------\n",
      "LowRank is set as True, not using REML\n",
      "Heritability h2: 0.7033927575344195\n",
      "Sigma_g2: 1.2626387780066162\n",
      "Sigma_e2: 0.5324305690712582\n",
      "------ 1.1371872425079346 seconds ------\n",
      "(1.2626387780066162, 0.5324305690712582)\n",
      "First 5 fold indices : [(0, 204), (204, 408), (408, 612), (612, 816), (816, 1020)]\n",
      "First 5 fold indices : [(0, 204), (204, 408), (408, 612), (612, 816), (816, 1020)]\n",
      "First 5 fold indices : [(0, 204), (204, 408), (408, 612), (612, 816), (816, 1020)]\n",
      "First 5 fold indices : [(0, 204), (204, 408), (408, 612), (612, 816), (816, 1020)]\n",
      "The CV error of   lmm is 1680280049558992988668960964608.0000, wls is 1680280049558992988668960964608.0000, and ols is 46723767098205169438949376.0000, and ridge is 0.9018\n",
      "The CVc error of  lmm is 1680280049558992988668960964608.0000, wls is 1680280049558992988668960964608.0000, and ols is 46723767098202162961842176.0000, and ridge is -3003809339103.7339\n",
      "The CVc random of  lmm is 1680280049558992988668960964608.0000, wls is 1680280049558992988668960964608.0000, and ols is 46723767098202162961842176.0000, and ridge is -3003809339103.0469\n",
      "The CVc sample of  lmm is 1680280049558992988668960964608.0000, wls is 1680280049558992988668960964608.0000, and ols is 46723767098202162961842176.0000, and ridge is -3003809339103.6323\n",
      "The test error of lmm is 0.6690, wls is 1.2036, and ols is 0.9432, and ridge is 0.9812\n"
     ]
    }
   ],
   "source": [
    "for num_fixed_snps in range(10, 50,10):\n",
    "    print('---------', num_fixed_snps, '-------------')\n",
    "    lmm, wls, ols, ridge = cross_validation_correction(SNPs,\n",
    "                                                    y,\n",
    "                                                    num_fixed_snps,\n",
    "                                                    n_folds=n_folds)"
   ]
  },
  {
   "cell_type": "code",
   "execution_count": 27,
   "metadata": {},
   "outputs": [
    {
     "name": "stdout",
     "output_type": "stream",
     "text": [
      "[0.6589378205018179, 0.6957170557787853, 1.1554689999530212, 0.6234574675279339, 0.6638732846182736]\n",
      "[1.9748016533307975, 2.0037458352114967, 2.1656275956338247, 2.003063422619314, 2.025072027888841]\n",
      "[0.9189247855617997, 0.9331732005760811, 1.255427168122369, 0.9101630083751724, 0.8852814620987294]\n",
      "[0.9216329998905821, 0.9358814149048635, 1.6514285921543082, 0.9486077929431156, 0.8986186016960664]\n"
     ]
    }
   ],
   "source": [
    "print(lmm, wls, ols, ridge,sep=\"\\n\")"
   ]
  }
 ],
 "metadata": {
  "kernelspec": {
   "display_name": "base",
   "language": "python",
   "name": "python3"
  },
  "language_info": {
   "codemirror_mode": {
    "name": "ipython",
    "version": 3
   },
   "file_extension": ".py",
   "mimetype": "text/x-python",
   "name": "python",
   "nbconvert_exporter": "python",
   "pygments_lexer": "ipython3",
   "version": "3.9.12"
  },
  "orig_nbformat": 4
 },
 "nbformat": 4,
 "nbformat_minor": 2
}
